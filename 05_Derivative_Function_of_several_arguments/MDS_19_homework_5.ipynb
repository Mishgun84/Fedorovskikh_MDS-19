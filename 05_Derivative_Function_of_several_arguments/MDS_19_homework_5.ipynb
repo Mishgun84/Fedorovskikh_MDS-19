{
 "cells": [
  {
   "cell_type": "markdown",
   "id": "137dfeb9",
   "metadata": {},
   "source": [
    "# Домашнее задание \"Производная функции нескольких аргументов\"."
   ]
  },
  {
   "cell_type": "markdown",
   "id": "30a20100",
   "metadata": {},
   "source": [
    "## Уровень 0:\n",
    "\n",
    "Посчитайте частные производные функций:\n",
    "<br><br>\n",
    "<div> \n",
    "1) f(x, y) = 2x<sup>2</sup>y<sup>3</sup> + 1/x + y<sup>2</sup>x + 7 , а для этой функции также градиент в точке (1,2) </div>\n",
    "<div>\n",
    "2) f(x, y) = x<sup>2</sup>y - sin(xy) + cos(x<sup>2</sup>) + 6y </div>\n",
    "\n",
    "\n",
    "Как обычно сначала посчитаем производные \"вручную\".\n",
    "\n",
    "##### 1) Рассчитаем производные для первой функции \n",
    "<div>    &nbsp;&nbsp;&nbsp; f(x, y)'<sub>x</sub> = 2y<sup>3</sup>&middot;(x<sup>2</sup>)' + (1/x)' + y<sup>2</sup>(x)' = 4y<sup>3</sup>x - 1/x<sup>2</sup> + y<sup>2</sup>\n",
    "    <br>\n",
    "    &nbsp;&nbsp;&nbsp; f(x, y)'<sub>y</sub> = 2x<sup>2</sup>&middot;(y<sup>3</sup>)' + x&middot;(y<sup>2</sup>)' = 6x<sup>2</sup>y<sup>2</sup> + 2xy </div>\n",
    "    \n",
    "И сразу найдем градиент - вектор из частных производных в точке (1,2). Для этого найдем значения производных в этой точке:\n",
    "<div>\n",
    " &nbsp;&nbsp;&nbsp;   f(1, 2)'<sub>x</sub> = 4&middot;2<sup>3</sup>&middot;1 - 1/1<sup>2</sup> + 2<sup>2</sup> = 32 - 1 +4 = 35\n",
    "<br>\n",
    "    &nbsp;&nbsp;&nbsp; f(1, 2)'<sub>y</sub> = 6&middot;1<sup>2</sup>&middot;2<sup>2</sup> + 2&middot;1&middot;2 = 24 + 4 = 28 </div>\n",
    "<br>\n",
    "Тогда градиент функции в точке (1,2) можно записать в виде вектора: \n",
    "<div> grad <i>f</i>(1,2) = 35<i>i&macr;</i> + 28<i>j&oline;</i></div"
   ]
  },
  {
   "cell_type": "code",
   "execution_count": 1,
   "id": "096f969e",
   "metadata": {},
   "outputs": [
    {
     "data": {
      "text/latex": [
       "$\\displaystyle 4 x y^{3} + y^{2} - \\frac{1}{x^{2}}$"
      ],
      "text/plain": [
       "4*x*y**3 + y**2 - 1/x**2"
      ]
     },
     "execution_count": 1,
     "metadata": {},
     "output_type": "execute_result"
    }
   ],
   "source": [
    "# Проверим расчеты с помощью Python\n",
    "import numpy as np\n",
    "from scipy.optimize import approx_fprime\n",
    "\n",
    "from sympy import *\n",
    "x, y = symbols('x y')\n",
    "\n",
    "f1 = 2*x**2*y**3 + 1/x + y**2*x + 7\n",
    "\n",
    "# Находим частную производную по x\n",
    "f1x_derivative = f1.diff(x)\n",
    "f1x_derivative"
   ]
  },
  {
   "cell_type": "code",
   "execution_count": 2,
   "id": "63c0f63a",
   "metadata": {},
   "outputs": [
    {
     "data": {
      "text/latex": [
       "$\\displaystyle 6 x^{2} y^{2} + 2 x y$"
      ],
      "text/plain": [
       "6*x**2*y**2 + 2*x*y"
      ]
     },
     "execution_count": 2,
     "metadata": {},
     "output_type": "execute_result"
    }
   ],
   "source": [
    "# Находим частную производную по y\n",
    "f1y_derivative = f1.diff(y)\n",
    "f1y_derivative"
   ]
  },
  {
   "cell_type": "code",
   "execution_count": 3,
   "id": "276ac0c5",
   "metadata": {},
   "outputs": [
    {
     "name": "stdout",
     "output_type": "stream",
     "text": [
      "Значение частной производной по x в точке (1,2) равно  35.0\n",
      "Значение частной производной по y в точке (1,2) равно  28\n"
     ]
    }
   ],
   "source": [
    "f1dx = lambdify([x, y], f1x_derivative)\n",
    "f1dy = lambdify([x, y], f1y_derivative)\n",
    "print('Значение частной производной по x в точке (1,2) равно ',f1dx(1,2))\n",
    "print('Значение частной производной по y в точке (1,2) равно ',f1dy(1,2))"
   ]
  },
  {
   "cell_type": "markdown",
   "id": "4d819765",
   "metadata": {},
   "source": [
    "Производные и их значения в точке, найденные \"вручную\" совпадают с формулами и значениями, полученными с помощью библиотеки sympy.\n",
    "\n",
    "\n",
    "\n",
    "##### 2) Рассчитаем производные для второй функции\n",
    "\n",
    "<div>    &nbsp;&nbsp;&nbsp; f(x, y)'<sub>x</sub> = 2x&middot;y - cos(xy)&middot;y - sin(x<sup>2</sup>)&middot;2x \n",
    "    <br>\n",
    "    &nbsp;&nbsp;&nbsp; f(x, y)'<sub>y</sub> = x<sup>2</sup> - cos(xy)&middot;x + 6</div>\n",
    "    "
   ]
  },
  {
   "cell_type": "code",
   "execution_count": 4,
   "id": "ee4eb967",
   "metadata": {},
   "outputs": [
    {
     "data": {
      "text/latex": [
       "$\\displaystyle 2 x y - 2 x \\sin{\\left(x^{2} \\right)} - y \\cos{\\left(x y \\right)}$"
      ],
      "text/plain": [
       "2*x*y - 2*x*sin(x**2) - y*cos(x*y)"
      ]
     },
     "execution_count": 4,
     "metadata": {},
     "output_type": "execute_result"
    }
   ],
   "source": [
    "# Проверим расчеты с помощью Python\n",
    "\n",
    "f2 = x**2*y - sin(x*y) + cos(x**2) + 6*y\n",
    "\n",
    "# Находим частную производную по x\n",
    "f2x_derivative = f2.diff(x)\n",
    "f2x_derivative"
   ]
  },
  {
   "cell_type": "code",
   "execution_count": 5,
   "id": "cd5d2478",
   "metadata": {},
   "outputs": [
    {
     "data": {
      "text/latex": [
       "$\\displaystyle x^{2} - x \\cos{\\left(x y \\right)} + 6$"
      ],
      "text/plain": [
       "x**2 - x*cos(x*y) + 6"
      ]
     },
     "execution_count": 5,
     "metadata": {},
     "output_type": "execute_result"
    }
   ],
   "source": [
    "# Находим частную производную по y\n",
    "f2y_derivative = f2.diff(y)\n",
    "f2y_derivative"
   ]
  },
  {
   "cell_type": "markdown",
   "id": "a2db03da",
   "metadata": {},
   "source": [
    "## Уровень 1:\n",
    "\n",
    "Градиентный спуск своими руками:"
   ]
  },
  {
   "cell_type": "code",
   "execution_count": 6,
   "id": "736694d7",
   "metadata": {},
   "outputs": [],
   "source": [
    "def f(x):\n",
    "    return (x[0]**2) + (x[1]**2)"
   ]
  },
  {
   "cell_type": "code",
   "execution_count": 7,
   "id": "5725a18f",
   "metadata": {},
   "outputs": [],
   "source": [
    "x = np.array([100, 200])\n",
    "learning_rate = 0.1"
   ]
  },
  {
   "cell_type": "code",
   "execution_count": 8,
   "id": "ae68c68f",
   "metadata": {},
   "outputs": [],
   "source": [
    "for i in range(10000):\n",
    "    # Calculate gradient\n",
    "    grad = approx_fprime(x, f, learning_rate) # функция для вычисления градиента \n",
    "    \n",
    "    # Update x with gradient\n",
    "    x = x - learning_rate*grad "
   ]
  },
  {
   "cell_type": "code",
   "execution_count": 9,
   "id": "de03ff53",
   "metadata": {},
   "outputs": [
    {
     "name": "stdout",
     "output_type": "stream",
     "text": [
      "Минимум достигается в:  [-0.05 -0.05]\n",
      "Значение функции в минимуме:  0.0049999999999999975\n"
     ]
    }
   ],
   "source": [
    "print(\"Минимум достигается в: \", x)\n",
    "print(\"Значение функции в минимуме: \", f(x))"
   ]
  },
  {
   "cell_type": "markdown",
   "id": "0b5652a7",
   "metadata": {},
   "source": [
    "Вообще по моей логике для такой функции минимум должен быть в точке (0, 0). Но видимо задано слишком большое значение шага градиентного спуска, и поэтому проскочили мимо нулевой точки."
   ]
  },
  {
   "cell_type": "markdown",
   "id": "8a29c868",
   "metadata": {},
   "source": [
    "Проверка с помощью встроенной функции numpy:"
   ]
  },
  {
   "cell_type": "code",
   "execution_count": 10,
   "id": "60b7a099",
   "metadata": {},
   "outputs": [],
   "source": [
    "# А вот здесь так и не понял какую функцию надо использовать и как.\n",
    "# Если имеется ввиду функция np.gradient, то как ее здесь использовать?\n",
    "# Снова что-то немного погуглил и наугад написал"
   ]
  },
  {
   "cell_type": "code",
   "execution_count": 11,
   "id": "b76e7053",
   "metadata": {},
   "outputs": [
    {
     "data": {
      "text/plain": [
       "[array([[-4375., -4375., -4375., -4375., -4375., -4375., -4375., -4375.,\n",
       "         -4375.],\n",
       "        [-3750., -3750., -3750., -3750., -3750., -3750., -3750., -3750.,\n",
       "         -3750.],\n",
       "        [-2500., -2500., -2500., -2500., -2500., -2500., -2500., -2500.,\n",
       "         -2500.],\n",
       "        [-1250., -1250., -1250., -1250., -1250., -1250., -1250., -1250.,\n",
       "         -1250.],\n",
       "        [    0.,     0.,     0.,     0.,     0.,     0.,     0.,     0.,\n",
       "             0.],\n",
       "        [ 1250.,  1250.,  1250.,  1250.,  1250.,  1250.,  1250.,  1250.,\n",
       "          1250.],\n",
       "        [ 2500.,  2500.,  2500.,  2500.,  2500.,  2500.,  2500.,  2500.,\n",
       "          2500.],\n",
       "        [ 3750.,  3750.,  3750.,  3750.,  3750.,  3750.,  3750.,  3750.,\n",
       "          3750.],\n",
       "        [ 4375.,  4375.,  4375.,  4375.,  4375.,  4375.,  4375.,  4375.,\n",
       "          4375.]]),\n",
       " array([[-4375., -3750., -2500., -1250.,     0.,  1250.,  2500.,  3750.,\n",
       "          4375.],\n",
       "        [-4375., -3750., -2500., -1250.,     0.,  1250.,  2500.,  3750.,\n",
       "          4375.],\n",
       "        [-4375., -3750., -2500., -1250.,     0.,  1250.,  2500.,  3750.,\n",
       "          4375.],\n",
       "        [-4375., -3750., -2500., -1250.,     0.,  1250.,  2500.,  3750.,\n",
       "          4375.],\n",
       "        [-4375., -3750., -2500., -1250.,     0.,  1250.,  2500.,  3750.,\n",
       "          4375.],\n",
       "        [-4375., -3750., -2500., -1250.,     0.,  1250.,  2500.,  3750.,\n",
       "          4375.],\n",
       "        [-4375., -3750., -2500., -1250.,     0.,  1250.,  2500.,  3750.,\n",
       "          4375.],\n",
       "        [-4375., -3750., -2500., -1250.,     0.,  1250.,  2500.,  3750.,\n",
       "          4375.],\n",
       "        [-4375., -3750., -2500., -1250.,     0.,  1250.,  2500.,  3750.,\n",
       "          4375.]])]"
      ]
     },
     "execution_count": 11,
     "metadata": {},
     "output_type": "execute_result"
    }
   ],
   "source": [
    "# Зададим сетку координат\n",
    "x = np.mgrid[-100:101:25., -100:101:25.]\n",
    "# Запишем функцию\n",
    "F = x[0]**2 + x[1]**2 \n",
    "# Найдем значения производных\n",
    "np.gradient(F)"
   ]
  },
  {
   "cell_type": "markdown",
   "id": "7de91db5",
   "metadata": {},
   "source": [
    "Если я правильно понял, то функция np.gradient(F) возвращает \"Дискретная производная массива или список массивов с дискретными производными по кажой оси массива x. Массив или каждый массив из списка имеет ту же форму что и x."
   ]
  },
  {
   "cell_type": "code",
   "execution_count": 12,
   "id": "117212fe",
   "metadata": {},
   "outputs": [
    {
     "data": {
      "text/plain": [
       "array([[[-100., -100., -100., -100., -100., -100., -100., -100., -100.],\n",
       "        [ -75.,  -75.,  -75.,  -75.,  -75.,  -75.,  -75.,  -75.,  -75.],\n",
       "        [ -50.,  -50.,  -50.,  -50.,  -50.,  -50.,  -50.,  -50.,  -50.],\n",
       "        [ -25.,  -25.,  -25.,  -25.,  -25.,  -25.,  -25.,  -25.,  -25.],\n",
       "        [   0.,    0.,    0.,    0.,    0.,    0.,    0.,    0.,    0.],\n",
       "        [  25.,   25.,   25.,   25.,   25.,   25.,   25.,   25.,   25.],\n",
       "        [  50.,   50.,   50.,   50.,   50.,   50.,   50.,   50.,   50.],\n",
       "        [  75.,   75.,   75.,   75.,   75.,   75.,   75.,   75.,   75.],\n",
       "        [ 100.,  100.,  100.,  100.,  100.,  100.,  100.,  100.,  100.]],\n",
       "\n",
       "       [[-100.,  -75.,  -50.,  -25.,    0.,   25.,   50.,   75.,  100.],\n",
       "        [-100.,  -75.,  -50.,  -25.,    0.,   25.,   50.,   75.,  100.],\n",
       "        [-100.,  -75.,  -50.,  -25.,    0.,   25.,   50.,   75.,  100.],\n",
       "        [-100.,  -75.,  -50.,  -25.,    0.,   25.,   50.,   75.,  100.],\n",
       "        [-100.,  -75.,  -50.,  -25.,    0.,   25.,   50.,   75.,  100.],\n",
       "        [-100.,  -75.,  -50.,  -25.,    0.,   25.,   50.,   75.,  100.],\n",
       "        [-100.,  -75.,  -50.,  -25.,    0.,   25.,   50.,   75.,  100.],\n",
       "        [-100.,  -75.,  -50.,  -25.,    0.,   25.,   50.,   75.,  100.],\n",
       "        [-100.,  -75.,  -50.,  -25.,    0.,   25.,   50.,   75.,  100.]]])"
      ]
     },
     "execution_count": 12,
     "metadata": {},
     "output_type": "execute_result"
    }
   ],
   "source": [
    "x"
   ]
  },
  {
   "cell_type": "markdown",
   "id": "764883da",
   "metadata": {},
   "source": [
    "Видимо раз в точке (0,0) функция np.gradient(F) возвращает значения производных равные 0, то там наверное локальный минимум нашей функции."
   ]
  }
 ],
 "metadata": {
  "kernelspec": {
   "display_name": "Python 3",
   "language": "python",
   "name": "python3"
  },
  "language_info": {
   "codemirror_mode": {
    "name": "ipython",
    "version": 3
   },
   "file_extension": ".py",
   "mimetype": "text/x-python",
   "name": "python",
   "nbconvert_exporter": "python",
   "pygments_lexer": "ipython3",
   "version": "3.8.8"
  }
 },
 "nbformat": 4,
 "nbformat_minor": 5
}
