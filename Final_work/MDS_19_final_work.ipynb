{
 "cells": [
  {
   "cell_type": "markdown",
   "id": "5253897e",
   "metadata": {},
   "source": [
    "# Итоговая работа."
   ]
  },
  {
   "cell_type": "code",
   "execution_count": 1,
   "id": "413ef4ea",
   "metadata": {},
   "outputs": [],
   "source": [
    "import matplotlib.pyplot as plt\n",
    "import numpy as np\n",
    "\n",
    "from scipy.optimize import minimize\n",
    "%matplotlib inline"
   ]
  },
  {
   "cell_type": "markdown",
   "id": "930dd7d3",
   "metadata": {},
   "source": [
    "## Задание 1\n",
    "Дана матрица рейтингов фильмов (строки - пользователи (10 человек), столбцы - фильмы (15 фильмов))"
   ]
  },
  {
   "cell_type": "code",
   "execution_count": 2,
   "id": "eacd55c0",
   "metadata": {},
   "outputs": [],
   "source": [
    "raitings = np.array([[ 4,  4,  9,  4,  1,  6, 10,  7,  9,  6,  9,  2,  8,  6,  6],\n",
    "                     [ 9,  2,  5, 10,  7,  8, 10,  5,  6,  2,  1,  6,  8,  9,  7],\n",
    "                     [ 1,  6,  8,  8,  4,  9,  3,  8, 10,  5,  2,  6,  8,  1,  6],\n",
    "                     [ 6,  1,  9,  7,  7,  9,  2,  3,  5,  1,  6,  6,  3,  2,  7],\n",
    "                     [ 3,  7,  3,  5,  7,  9,  9,  6,  2,  9,  1,  2,  8, 10,  6],\n",
    "                     [ 8,  3,  7,  3,  8,  6,  1,  8,  8,  6,  1,  9,  4, 10,  1],\n",
    "                     [ 9,  8,  4,  8,  8, 10,  6,  1,  1,  2,  9,  5,  2,  7,  2],\n",
    "                     [ 4,  1,  6,  4,  3, 10,  4,  4,  2,  8,  7,  9,  3,  8,  3],\n",
    "                     [ 2,  7,  7,  6, 10,  6,  8,  9,  8,  6, 10,  1,  7, 10,  4],\n",
    "                     [ 5, 10,  8,  8,  9,  7,  2,  9,  9, 10,  8,  8,  8,  6, 10]])"
   ]
  },
  {
   "cell_type": "markdown",
   "id": "bb6e3453",
   "metadata": {},
   "source": [
    "**a)** Необходимо найти наиболее похожего пользователя по косинусной метрике для каждого из (ответ: 10 пар вида (x, y), где y - наиболее похожий пользователь на пользователя x).\n",
    "\n",
    "**b)** Предположим, вы захотели сжать признаковые описания пользователя с 15 фильмов, до, скажем, 5-ти признаков, как вы это сделаете?"
   ]
  },
  {
   "cell_type": "markdown",
   "id": "e8a6c4dc",
   "metadata": {},
   "source": [
    "* * *"
   ]
  },
  {
   "cell_type": "markdown",
   "id": "3279d251",
   "metadata": {},
   "source": [
    "Для поиска похожих пользователей воспользуемся функцией **sklearn.metrics.pairwise_distances** с косинусной метрикой, которая вернет матрицу **$A$** косинусных расстояний между векторами - элементы матрицы **a<sub>ij</sub>** равны разности **(1 - cos &alpha;<sub>ij</sub> )**, где **&alpha;<sub>ij</sub>** - угол между **i**-ым и **j**-м векторами (строками) матрицы пользователей **raitings**. Соответственно, чем меньше будет значение элемента **a<sub>ij</sub>**, тем более схожими будут векторы **i** и **j** матрицы пользователей **raitings**."
   ]
  },
  {
   "cell_type": "code",
   "execution_count": 31,
   "id": "da325001",
   "metadata": {},
   "outputs": [
    {
     "data": {
      "text/plain": [
       "array([[0.        , 0.17397081, 0.15078471, 0.21659884, 0.18082368,\n",
       "        0.25881452, 0.27264172, 0.19032478, 0.08934018, 0.13989224],\n",
       "       [0.17397081, 0.        , 0.18765675, 0.15364663, 0.12861948,\n",
       "        0.17286893, 0.17370316, 0.19973997, 0.17473692, 0.18031873],\n",
       "       [0.15078471, 0.18765675, 0.        , 0.15330626, 0.21605701,\n",
       "        0.20902015, 0.32383777, 0.23710448, 0.17887923, 0.08126949],\n",
       "       [0.21659884, 0.15364663, 0.15330626, 0.        , 0.30846591,\n",
       "        0.21334208, 0.16725789, 0.17065333, 0.2229334 , 0.1411313 ],\n",
       "       [0.18082368, 0.12861948, 0.21605701, 0.30846591, 0.        ,\n",
       "        0.2235566 , 0.21799532, 0.18763131, 0.12051523, 0.15425211],\n",
       "       [0.25881452, 0.17286893, 0.20902015, 0.21334208, 0.2235566 ,\n",
       "        0.        , 0.25988199, 0.15548315, 0.19377124, 0.14485092],\n",
       "       [0.27264172, 0.17370316, 0.32383777, 0.16725789, 0.21799532,\n",
       "        0.25988199, 0.        , 0.17330826, 0.18869956, 0.20845282],\n",
       "       [0.19032478, 0.19973997, 0.23710448, 0.17065333, 0.18763131,\n",
       "        0.15548315, 0.17330826, 0.        , 0.2018724 , 0.16317771],\n",
       "       [0.08934018, 0.17473692, 0.17887923, 0.2229334 , 0.12051523,\n",
       "        0.19377124, 0.18869956, 0.2018724 , 0.        , 0.09906203],\n",
       "       [0.13989224, 0.18031873, 0.08126949, 0.1411313 , 0.15425211,\n",
       "        0.14485092, 0.20845282, 0.16317771, 0.09906203, 0.        ]])"
      ]
     },
     "execution_count": 31,
     "metadata": {},
     "output_type": "execute_result"
    }
   ],
   "source": [
    "from sklearn.metrics import pairwise_distances\n",
    "A = pairwise_distances(raitings, metric=\"cosine\")\n",
    "A"
   ]
  },
  {
   "cell_type": "code",
   "execution_count": 62,
   "id": "2d66aa48",
   "metadata": {},
   "outputs": [
    {
     "name": "stdout",
     "output_type": "stream",
     "text": [
      "Для 1-го пользователя наиболее похожим будет 9-ый пользователь, т.к. угол между их векторами\n",
      "наименьший и равен  24.40 градусам. Их оценки:\n",
      "\t 1-ый: [ 4  4  9  4  1  6 10  7  9  6  9  2  8  6  6]\n",
      "\t 9-ый: [ 2  7  7  6 10  6  8  9  8  6 10  1  7 10  4]\n",
      "Для 2-го пользователя наиболее похожим будет 5-ый пользователь, т.к. угол между их векторами\n",
      "наименьший и равен  29.38 градусам. Их оценки:\n",
      "\t 2-ый: [ 9  2  5 10  7  8 10  5  6  2  1  6  8  9  7]\n",
      "\t 5-ый: [ 3  7  3  5  7  9  9  6  2  9  1  2  8 10  6]\n",
      "Для 3-го пользователя наиболее похожим будет 10-ый пользователь, т.к. угол между их векторами\n",
      "наименьший и равен  23.26 градусам. Их оценки:\n",
      "\t 3-ый: [ 1  6  8  8  4  9  3  8 10  5  2  6  8  1  6]\n",
      "\t 10-ый: [ 5 10  8  8  9  7  2  9  9 10  8  8  8  6 10]\n",
      "Для 4-го пользователя наиболее похожим будет 10-ый пользователь, т.к. угол между их векторами\n",
      "наименьший и равен  30.81 градусам. Их оценки:\n",
      "\t 4-ый: [6 1 9 7 7 9 2 3 5 1 6 6 3 2 7]\n",
      "\t 10-ый: [ 5 10  8  8  9  7  2  9  9 10  8  8  8  6 10]\n",
      "Для 5-го пользователя наиболее похожим будет 9-ый пользователь, т.к. угол между их векторами\n",
      "наименьший и равен  28.42 градусам. Их оценки:\n",
      "\t 5-ый: [ 3  7  3  5  7  9  9  6  2  9  1  2  8 10  6]\n",
      "\t 9-ый: [ 2  7  7  6 10  6  8  9  8  6 10  1  7 10  4]\n",
      "Для 6-го пользователя наиболее похожим будет 10-ый пользователь, т.к. угол между их векторами\n",
      "наименьший и равен  31.22 градусам. Их оценки:\n",
      "\t 6-ый: [ 8  3  7  3  8  6  1  8  8  6  1  9  4 10  1]\n",
      "\t 10-ый: [ 5 10  8  8  9  7  2  9  9 10  8  8  8  6 10]\n",
      "Для 7-го пользователя наиболее похожим будет 4-ый пользователь, т.к. угол между их векторами\n",
      "наименьший и равен  33.62 градусам. Их оценки:\n",
      "\t 7-ый: [ 9  8  4  8  8 10  6  1  1  2  9  5  2  7  2]\n",
      "\t 4-ый: [6 1 9 7 7 9 2 3 5 1 6 6 3 2 7]\n",
      "Для 8-го пользователя наиболее похожим будет 6-ый пользователь, т.к. угол между их векторами\n",
      "наименьший и равен  32.38 градусам. Их оценки:\n",
      "\t 8-ый: [ 4  1  6  4  3 10  4  4  2  8  7  9  3  8  3]\n",
      "\t 6-ый: [ 8  3  7  3  8  6  1  8  8  6  1  9  4 10  1]\n",
      "Для 9-го пользователя наиболее похожим будет 1-ый пользователь, т.к. угол между их векторами\n",
      "наименьший и равен  24.40 градусам. Их оценки:\n",
      "\t 9-ый: [ 2  7  7  6 10  6  8  9  8  6 10  1  7 10  4]\n",
      "\t 1-ый: [ 4  4  9  4  1  6 10  7  9  6  9  2  8  6  6]\n",
      "Для 10-го пользователя наиболее похожим будет 3-ый пользователь, т.к. угол между их векторами\n",
      "наименьший и равен  23.26 градусам. Их оценки:\n",
      "\t 10-ый: [ 5 10  8  8  9  7  2  9  9 10  8  8  8  6 10]\n",
      "\t 3-ый: [ 1  6  8  8  4  9  3  8 10  5  2  6  8  1  6]\n"
     ]
    }
   ],
   "source": [
    "\n",
    "for i, row in enumerate(A):\n",
    "    j=list(row).index(min(row[np.nonzero(row)]))\n",
    "    print(f\"\"\"Для {i+1}-го пользователя наиболее похожим будет {j+1}-ый пользователь, т.к. угол между их векторами\n",
    "наименьший и равен {np.rad2deg(np.arccos(1 - min(row[np.nonzero(row)]))): .2f} градусам. Их оценки:\"\"\")\n",
    "    print(f'\\t {i+1}-ый: {raitings[i]}')\n",
    "    print(f'\\t {j+1}-ый: {raitings[j]}')"
   ]
  },
  {
   "cell_type": "code",
   "execution_count": 86,
   "id": "8df701ee",
   "metadata": {},
   "outputs": [
    {
     "data": {
      "text/plain": [
       "33.61854221212546"
      ]
     },
     "execution_count": 86,
     "metadata": {},
     "output_type": "execute_result"
    }
   ],
   "source": [
    "# На всякий случай, для проверки найду \"вручную\" угол между двумя векторами. \n",
    "# Например, пусть это будут raitings[3] и raitings[6] (т.е. соответственно 4-ый и 7-ой пользователи)\n",
    "from numpy import linalg as LA\n",
    "cos_xy = np.dot(raitings[3],raitings[6]) / (LA.norm(raitings[3]) * LA.norm(raitings[6]))\n",
    "cos_xy\n",
    "np.degrees(np.arccos(cos_xy))\n",
    "# Результат соответствует полученному с помощью sklearn.metrics.pairwise_distances"
   ]
  },
  {
   "cell_type": "markdown",
   "id": "c8835b18",
   "metadata": {},
   "source": [
    "Для сжатия признаковых описаний пользователя можно воспользоваться, например, функцией **sklearn.decomposition.PCA**."
   ]
  },
  {
   "cell_type": "code",
   "execution_count": 69,
   "id": "a99e1a94",
   "metadata": {},
   "outputs": [
    {
     "data": {
      "text/plain": [
       "array([[-5.30986101,  1.92919845, -4.93300027,  2.70188013,  5.50497886],\n",
       "       [ 2.87763403,  2.71659559,  1.40592782,  7.26325751, -4.50322291],\n",
       "       [-4.94010408, -6.68861167, -0.94550184,  3.61556661, -0.68969272],\n",
       "       [ 5.14939908, -6.28027284, -4.65978558,  1.09024004, -1.01471112],\n",
       "       [-1.37488691,  7.54357985,  4.00834369,  2.1284001 , -0.16324949],\n",
       "       [ 2.65341956, -3.77075601,  8.58430748, -1.46628319,  1.67401769],\n",
       "       [ 8.61573944,  3.78603335, -4.02721027, -4.37582577, -3.13880277],\n",
       "       [ 5.39658258, -1.0170466 ,  1.01456742, -1.89512837,  6.54883538],\n",
       "       [-5.7843488 ,  5.29857107, -1.48083611, -3.71295542,  0.21312695],\n",
       "       [-7.2835739 , -3.51729118,  1.03318766, -5.34915166, -4.43127987]])"
      ]
     },
     "execution_count": 69,
     "metadata": {},
     "output_type": "execute_result"
    }
   ],
   "source": [
    "from sklearn.decomposition import PCA\n",
    "# Зададим в переменную X исходный массив данных  \n",
    "X = raitings\n",
    "# Задаем количество компонентов, которое должны получить\n",
    "pca = PCA(n_components=5)\n",
    "# Обучаем модель\n",
    "pca.fit(X)\n",
    "# Получаем новый массив признаковых описаний с заданной нами размерностью\n",
    "X1 = pca.transform(X)\n",
    "X1"
   ]
  },
  {
   "cell_type": "code",
   "execution_count": 70,
   "id": "9cc87cd2",
   "metadata": {},
   "outputs": [
    {
     "data": {
      "text/plain": [
       "array([[ 1.2713466 ,  3.66929429,  8.35533805,  4.64369476,  1.79511984,\n",
       "         7.27906297,  9.45356511,  7.01655415,  7.78461261,  6.29814277,\n",
       "         8.43027428,  1.67837018,  7.89228549,  5.45763733,  5.95151941],\n",
       "       [ 7.53605189,  3.41414275,  4.43971325,  9.20015737,  6.99666333,\n",
       "         8.77754015,  9.12804918,  4.52818336,  4.87902514,  2.23442732,\n",
       "        -0.51011256,  4.55094941,  7.7114987 ,  7.51265934,  6.59070107],\n",
       "       [ 3.39964951,  3.97299823,  9.32966715,  7.42399391,  4.69196275,\n",
       "         7.43824801,  3.52765326,  8.1399885 , 10.63557207,  5.0218547 ,\n",
       "         3.36558945,  6.43949662,  8.09170516,  2.50854146,  8.09680645],\n",
       "       [ 6.64195784,  2.43652674,  8.28046315,  8.02355022,  5.16047344,\n",
       "         9.46865286,  2.62484677,  2.98636192,  5.65024453,  1.27650795,\n",
       "         6.26004426,  7.50362367,  3.41229296,  1.90027514,  5.74418711],\n",
       "       [ 5.15158638,  5.73004246,  3.88061769,  5.70006536,  7.27463239,\n",
       "         7.39000151, 10.09210812,  7.01253378,  4.65918477,  7.27872702,\n",
       "         2.64112901,  3.00006568,  8.06521162, 11.83154934,  4.58187136],\n",
       "       [ 6.28152503,  3.15812684,  6.07998723,  3.84218147,  7.31973416,\n",
       "         7.71083024,  0.77782592,  7.37600035,  5.91657148,  8.01630199,\n",
       "         0.76772535, 10.05149085,  4.39451106,  9.38370112,  2.71598927],\n",
       "       [ 8.65513072,  6.21560045,  4.50997999,  8.03676981,  9.1855599 ,\n",
       "         9.80441631,  5.9509829 ,  1.12807901,  0.54471309,  2.20244973,\n",
       "         9.5573612 ,  5.01509166,  1.96573276,  7.69989983,  3.49979436],\n",
       "       [ 5.1848646 ,  1.36521296,  6.76584896,  2.63690528,  3.75428287,\n",
       "         8.5569948 ,  3.79288217,  4.35261112,  3.46950381,  6.18570585,\n",
       "         6.55831652,  7.21408668,  2.46607253,  7.96390312,  1.41189521],\n",
       "       [ 2.98614212,  8.89797064,  6.27626974,  5.78348812,  7.62332139,\n",
       "         6.88550166,  8.06255146,  7.87505864,  6.54011501,  8.30896676,\n",
       "         9.59035572,  2.12219986,  7.54209629,  9.01295312,  5.71659622],\n",
       "       [ 3.8917453 , 10.14008464,  8.0821148 ,  7.70919369, 10.19824993,\n",
       "         6.68875147,  1.58953511,  9.58462916,  9.92045749,  8.17691591,\n",
       "         7.33931676,  6.42462539,  7.45859344,  5.7288802 ,  7.69063953]])"
      ]
     },
     "execution_count": 70,
     "metadata": {},
     "output_type": "execute_result"
    }
   ],
   "source": [
    "# Если попробовать восстановить данные, то значение оценок пользователей будут достаточно сильно искажены. Все-таки\n",
    "# сжатие с 15 до 5 компонентов ведет к потере части информации.\n",
    "X_restored = pca.inverse_transform(X1)\n",
    "X_restored"
   ]
  },
  {
   "cell_type": "code",
   "execution_count": 71,
   "id": "b1fa2e02",
   "metadata": {},
   "outputs": [
    {
     "data": {
      "text/plain": [
       "array([[ 4,  4,  9,  4,  1,  6, 10,  7,  9,  6,  9,  2,  8,  6,  6],\n",
       "       [ 9,  2,  5, 10,  7,  8, 10,  5,  6,  2,  1,  6,  8,  9,  7],\n",
       "       [ 1,  6,  8,  8,  4,  9,  3,  8, 10,  5,  2,  6,  8,  1,  6],\n",
       "       [ 6,  1,  9,  7,  7,  9,  2,  3,  5,  1,  6,  6,  3,  2,  7],\n",
       "       [ 3,  7,  3,  5,  7,  9,  9,  6,  2,  9,  1,  2,  8, 10,  6],\n",
       "       [ 8,  3,  7,  3,  8,  6,  1,  8,  8,  6,  1,  9,  4, 10,  1],\n",
       "       [ 9,  8,  4,  8,  8, 10,  6,  1,  1,  2,  9,  5,  2,  7,  2],\n",
       "       [ 4,  1,  6,  4,  3, 10,  4,  4,  2,  8,  7,  9,  3,  8,  3],\n",
       "       [ 2,  7,  7,  6, 10,  6,  8,  9,  8,  6, 10,  1,  7, 10,  4],\n",
       "       [ 5, 10,  8,  8,  9,  7,  2,  9,  9, 10,  8,  8,  8,  6, 10]])"
      ]
     },
     "execution_count": 71,
     "metadata": {},
     "output_type": "execute_result"
    }
   ],
   "source": [
    "# Для сравнения исходная матрица\n",
    "raitings"
   ]
  },
  {
   "cell_type": "code",
   "execution_count": 90,
   "id": "742e0d75",
   "metadata": {},
   "outputs": [
    {
     "data": {
      "text/plain": [
       "array([[23.41982063, -5.36092136,  3.83196779, -4.06950174,  1.10267269],\n",
       "       [24.76774917,  4.52188701,  1.35815965,  1.58128545,  8.59912002],\n",
       "       [22.27728589, -6.96492049, -4.84461485, -0.47661647,  3.37152266],\n",
       "       [19.4257757 ,  2.64575227, -6.86014009, -4.76604765,  1.96075707],\n",
       "       [22.8146354 ,  0.51464093,  7.70180188,  4.42379773,  1.29124163],\n",
       "       [21.76961656,  1.94294987, -4.56934779,  8.32306487, -2.21887359],\n",
       "       [21.23427453,  9.78047778,  1.16340271, -4.86074521, -2.60815471],\n",
       "       [19.97476815,  4.00048677, -1.67456316,  1.1512346 , -3.5637169 ],\n",
       "       [26.39306998, -3.03090482,  5.86422753, -1.67503491, -3.71500141],\n",
       "       [29.94016844, -4.82012297, -3.48912415,  0.05527083, -3.62526487]])"
      ]
     },
     "execution_count": 90,
     "metadata": {},
     "output_type": "execute_result"
    }
   ],
   "source": [
    "# Проверим как работатет функция sklearn.decomposition.TruncatedSVD\n",
    "from sklearn.decomposition import TruncatedSVD\n",
    "svd = TruncatedSVD(n_components=5)\n",
    "svd.fit(X)\n",
    "X2 = svd.transform(X)\n",
    "X2"
   ]
  },
  {
   "cell_type": "code",
   "execution_count": 91,
   "id": "60872e76",
   "metadata": {},
   "outputs": [
    {
     "data": {
      "text/plain": [
       "array([[ 1.87714353,  6.41126887,  7.05045587,  6.47383192,  4.67524539,\n",
       "         6.48697165,  8.36593621,  6.97087173,  7.70088673,  5.51734813,\n",
       "         7.66313349,  1.17415544,  8.18177703,  4.93941174,  7.05221611],\n",
       "       [ 8.47218818,  2.54514441,  5.55092788,  9.47008358,  6.66745215,\n",
       "         9.91611082, 10.02905716,  4.77370255,  5.34878676,  2.59112002,\n",
       "         0.28227787,  5.6674572 ,  7.96546466,  8.3838966 ,  6.78320366],\n",
       "       [ 2.68479305,  3.95864181,  8.73709327,  6.80481999,  4.288088  ,\n",
       "         6.46413823,  3.09710517,  7.99183396, 10.38855674,  4.90995872,\n",
       "         3.05256946,  5.74171095,  7.84949196,  2.06008353,  7.77964793],\n",
       "       [ 6.54449207,  2.65799371,  7.76817933,  7.97515383,  5.2821603 ,\n",
       "         8.60104295,  2.28697414,  2.8817624 ,  5.5791163 ,  1.05583181,\n",
       "         6.10320271,  7.16789157,  3.32776546,  1.68019326,  5.82743203],\n",
       "       [ 4.29012286,  5.45203499,  3.41606541,  4.86724143,  6.55299609,\n",
       "         6.58571961,  9.7515166 ,  6.84852339,  4.36552489,  7.25948899,\n",
       "         2.35282703,  2.3225415 ,  7.77369914, 11.38211098,  4.10602793],\n",
       "       [ 6.32112432,  3.67971799,  5.64141602,  4.1373237 ,  7.81175229,\n",
       "         7.27016276,  0.45669549,  7.2858122 ,  5.83172477,  7.77280768,\n",
       "         0.53005623,  9.83156416,  4.39707009,  9.15731881,  2.93254119],\n",
       "       [ 8.41321307,  4.8544321 ,  4.99899382,  7.1314049 ,  7.75507973,\n",
       "         9.84119852,  6.41624238,  1.11492466,  0.59442672,  2.52420486,\n",
       "         9.95580403,  5.22934417,  1.80715559,  7.94152586,  3.03580237],\n",
       "       [ 5.97648144,  4.52884341,  5.27968558,  4.74766513,  7.07966242,\n",
       "         7.50590605,  2.58401232,  4.3826261 ,  3.46240272,  5.40467421,\n",
       "         5.84063414,  6.71988293,  2.85555705,  7.52034543,  2.76722483],\n",
       "       [ 2.72985484,  8.28115267,  6.57638375,  5.34799457,  6.92662199,\n",
       "         7.22348634,  8.2970772 ,  7.84553648,  6.4819462 ,  8.47605697,\n",
       "         9.66084218,  2.18800378,  7.45520461,  9.03170796,  5.40520101],\n",
       "       [ 4.18209394,  7.53862943, 10.13627971,  6.72606247,  7.93915124,\n",
       "         8.79387834,  3.20568662,  9.84639808, 10.31426264,  9.13357748,\n",
       "         8.49472893,  7.81638493,  7.50129792,  6.82337711,  7.01291969]])"
      ]
     },
     "execution_count": 91,
     "metadata": {},
     "output_type": "execute_result"
    }
   ],
   "source": [
    "X_restored2 = svd.inverse_transform(X2)\n",
    "X_restored2\n",
    "# Чуда не произошло. Результаты также не впечатляют."
   ]
  },
  {
   "cell_type": "markdown",
   "id": "5ee75ed3",
   "metadata": {},
   "source": [
    "## Задание 2\n",
    "Вычислите производную **<i>tg<sup>2</sup>(sin(x) + cos(2x + 3))</i>**  в точке **x<sub>0</sub> = 1**  (на python и на бумаге).\n",
    "\n",
    "***"
   ]
  },
  {
   "cell_type": "markdown",
   "id": "03c8c7d8",
   "metadata": {},
   "source": [
    "Cначала посчитаем производную \"вручную\".\n",
    "$$ f(x)' = 2tg(sin(x) + cos(2x + 3))(tg(sin(x) + cos(2x + 3)))' = \\frac{2tg(sin(x) + cos(2x + 3))(sin(x) + cos(2x + 3))'} {cos(sin(x) + cos(2x + 3))}=$$ \n",
    "<br>\n",
    "$$=\\frac{2tg(sin(x) + cos(2x + 3))(cos(x) -2sin(2x + 3))}{cos^2(sin(x) + cos(2x + 3))}$$\n"
   ]
  },
  {
   "cell_type": "markdown",
   "id": "fc007d08",
   "metadata": {},
   "source": [
    "Теперь проверим как найдет производную Python:"
   ]
  },
  {
   "cell_type": "code",
   "execution_count": 72,
   "id": "69ff1be9",
   "metadata": {},
   "outputs": [
    {
     "data": {
      "text/latex": [
       "$\\displaystyle 2 \\left(- 2 \\sin{\\left(2 x + 3 \\right)} + \\cos{\\left(x \\right)}\\right) \\left(\\tan^{2}{\\left(\\sin{\\left(x \\right)} + \\cos{\\left(2 x + 3 \\right)} \\right)} + 1\\right) \\tan{\\left(\\sin{\\left(x \\right)} + \\cos{\\left(2 x + 3 \\right)} \\right)}$"
      ],
      "text/plain": [
       "2*(-2*sin(2*x + 3) + cos(x))*(tan(sin(x) + cos(2*x + 3))**2 + 1)*tan(sin(x) + cos(2*x + 3))"
      ]
     },
     "execution_count": 72,
     "metadata": {},
     "output_type": "execute_result"
    }
   ],
   "source": [
    "# Найдем производные с помощью Python использую библиотеку sympy\n",
    "from sympy import *\n",
    "# создаем \"символ\" под названием x\n",
    "x = Symbol('x')\n",
    "\n",
    "# Определяем в переменную f нашу функцию\n",
    "f = tan(sin(x) + cos(2*x + 3))**2\n",
    "\n",
    "# Находим первую производную\n",
    "f_derivative = f.diff(x)\n",
    "f_derivative"
   ]
  },
  {
   "cell_type": "markdown",
   "id": "78a83432",
   "metadata": {},
   "source": [
    "Python вывел решение без дроби, т.к. использовал пифагорово тождество\n",
    "$$\n",
    "(tg(x))'=\\frac{1}{cos^2x}=tg^2x+1\n",
    "$$\n",
    "но по сути результат тот же"
   ]
  },
  {
   "cell_type": "code",
   "execution_count": 73,
   "id": "ecd101ac",
   "metadata": {},
   "outputs": [
    {
     "name": "stdout",
     "output_type": "stream",
     "text": [
      "Значение производной в точке x=1 равно  55.385917635337854\n"
     ]
    }
   ],
   "source": [
    "fd = lambdify(x, f_derivative)\n",
    "print('Значение производной в точке x=1 равно ',fd(1))"
   ]
  },
  {
   "cell_type": "markdown",
   "id": "f2178213",
   "metadata": {},
   "source": [
    "Еще проверим производную, полученную \"вручную\""
   ]
  },
  {
   "cell_type": "code",
   "execution_count": 80,
   "id": "72215aa5",
   "metadata": {},
   "outputs": [
    {
     "name": "stdout",
     "output_type": "stream",
     "text": [
      "Значение производной в точке x=1 равно  55.38591763533786\n"
     ]
    }
   ],
   "source": [
    "x0 = 1\n",
    "r=2*np.tan(np.sin(x0) + np.cos(2*x0 + 3))*(np.cos(x0) - 2*np.sin(2*x0 + 3)) / np.cos(np.sin(x0) + np.cos(2*x0 + 3))**2\n",
    "print('Значение производной в точке x=1 равно ',r)"
   ]
  },
  {
   "cell_type": "markdown",
   "id": "6d16f870",
   "metadata": {},
   "source": [
    "У результатов расхождение на 13-м знаке после запятой - это видимо сказываются отличия в расчетах тригонометрических функций у разных библиотек. Будем считать, что результат идентичен и производную мы рассчитали правильно"
   ]
  },
  {
   "cell_type": "markdown",
   "id": "44652438",
   "metadata": {},
   "source": [
    "# Задание 3\n",
    "Дана функция с неизвестными параметрами a и b, вам также известны значения функции fx в точках x. Найдите оптимальные параметры a, b, минимизирующие абсолютную ошибку **error**."
   ]
  },
  {
   "cell_type": "code",
   "execution_count": 190,
   "id": "4d4e4276",
   "metadata": {},
   "outputs": [],
   "source": [
    "def f(x, a, b):\n",
    "    return np.e**a * np.sin(b*x) + x"
   ]
  },
  {
   "cell_type": "code",
   "execution_count": 191,
   "id": "10dd15b7",
   "metadata": {},
   "outputs": [],
   "source": [
    "x = np.array([0.        , 0.26315789, 0.52631579, 0.78947368, 1.05263158,\n",
    "              1.31578947, 1.57894737, 1.84210526, 2.10526316, 2.36842105,\n",
    "              2.63157895, 2.89473684, 3.15789474, 3.42105263, 3.68421053,\n",
    "              3.94736842, 4.21052632, 4.47368421, 4.73684211, 5.        ])"
   ]
  },
  {
   "cell_type": "code",
   "execution_count": 192,
   "id": "f5f86993",
   "metadata": {},
   "outputs": [],
   "source": [
    "fx = np.array([  0.        , -12.01819092, -18.90968634, -17.68786571,\n",
    "                -8.7529108 ,   4.27524517,  16.06801336,  21.81250213,\n",
    "                19.22059845,   9.48411207,  -3.22273056, -13.48576488,\n",
    "               -16.91096359, -11.95866834,  -0.58630088,  12.56873816,\n",
    "                22.12489421,  24.20292139,  18.04522521,   6.33211092])"
   ]
  },
  {
   "cell_type": "code",
   "execution_count": 193,
   "id": "197de7f6",
   "metadata": {},
   "outputs": [
    {
     "data": {
      "image/png": "[encoded data removed]",
      "text/plain": [
       "<Figure size 432x288 with 1 Axes>"
      ]
     },
     "metadata": {
      "needs_background": "light"
     },
     "output_type": "display_data"
    }
   ],
   "source": [
    "plt.plot(x, fx)\n",
    "plt.show()"
   ]
  },
  {
   "cell_type": "code",
   "execution_count": 167,
   "id": "b82b0758",
   "metadata": {},
   "outputs": [],
   "source": [
    "def error(params):\n",
    "    return np.sum(np.abs(fx - f(x, params[0], params[1])))"
   ]
  },
  {
   "cell_type": "markdown",
   "id": "f439cb60",
   "metadata": {},
   "source": [
    "Попробуем найти оптимум функции **error** с помощью алгоритма дифференциальной эволюции **scipy.optimize.differential_evolution**. Параметры **a** и **b** будут выступать в качестве переменных. Зададим для каждого из них границы значений от -10 до 10."
   ]
  },
  {
   "cell_type": "code",
   "execution_count": 189,
   "id": "e7d80f9e",
   "metadata": {},
   "outputs": [
    {
     "data": {
      "text/plain": [
       "     fun: 1.5130289208187264e-06\n",
       " message: 'Optimization terminated successfully.'\n",
       "    nfev: 2073\n",
       "     nit: 66\n",
       " success: True\n",
       "       x: array([ 3. , -2.5])"
      ]
     },
     "execution_count": 189,
     "metadata": {},
     "output_type": "execute_result"
    }
   ],
   "source": [
    "from scipy.optimize import minimize\n",
    "from scipy.optimize import differential_evolution\n",
    "# Задаем границы значений переменных params[0] и params[1] (по сути параметров a и b соответственно)\n",
    "bounds = [(-10, 10), (-10, 10)]\n",
    "\n",
    "# Попробуем найти оптимум функции error\n",
    "differential_evolution(error, bounds, seed=42)"
   ]
  },
  {
   "cell_type": "markdown",
   "id": "e149f25b",
   "metadata": {},
   "source": [
    "Т.е. функция **error** сможет принимать значение близкое к $0$ при параметрах **a** $ = 3$ и **b** $ = -2.5$. Проверим это. Теперь найдем оптимум функции **error** с помощью инструмента **scipy.optimize.minimize**. В качестве предполагаемых начальных исходных значений параметров задаим отличные от полученных ранее ( но сохраним знак). Пусть будут  **a** $ = 5$ и **b** $ = -5$."
   ]
  },
  {
   "cell_type": "code",
   "execution_count": 198,
   "id": "3ed253d5",
   "metadata": {},
   "outputs": [
    {
     "data": {
      "text/plain": [
       "     fun: 0.040595553450285315\n",
       "   maxcv: 0.0\n",
       " message: 'Optimization terminated successfully.'\n",
       "    nfev: 48\n",
       "  status: 1\n",
       " success: True\n",
       "       x: array([ 3.00006916, -2.50005519])"
      ]
     },
     "execution_count": 198,
     "metadata": {},
     "output_type": "execute_result"
    }
   ],
   "source": [
    "# Задаем массив предполагаемых занчений переменных\n",
    "a_b = [5, -5]\n",
    "\n",
    "# Найдем оптимум функции error с помощью scipy.optimize.minimize. Будет использован метод COBYLA\n",
    "minimize(error, a_b, method='COBYLA')"
   ]
  },
  {
   "cell_type": "markdown",
   "id": "e2b9310b",
   "metadata": {},
   "source": [
    "Не смотря на то, что начальные предполагаемые значения параметров были специально искажены, алгоритм **scipy.optimize.minimize** так же выдал решение близкое к **a** $ = 3$ и **b** $ = -2.5$. \n",
    "\n",
    "Теперь подставим эти параметры в нашу функцию **f**. А затем постром ее график и сравним его с исходным (построенным по известным значениям **fx**)"
   ]
  },
  {
   "cell_type": "code",
   "execution_count": 218,
   "id": "33df0fd2",
   "metadata": {},
   "outputs": [
    {
     "data": {
      "image/png": "[encoded data removed]",
      "text/plain": [
       "<Figure size 1440x720 with 1 Axes>"
      ]
     },
     "metadata": {
      "needs_background": "light"
     },
     "output_type": "display_data"
    }
   ],
   "source": [
    "# Запишем функцию f1 c подставленными найденнми значениями параметров\n",
    "def f1(x):\n",
    "    return np.e**3 * np.sin(-2.5*x) + x\n",
    "\n",
    "# Построим графики функций\n",
    "plt.figure(figsize=(20, 10))\n",
    "plt.plot(x, fx, label='Исходный график')\n",
    "plt.plot(x, f1(x), label='Функция с найденными параметрами', linestyle='--')\n",
    "plt.legend()\n",
    "plt.show()"
   ]
  },
  {
   "cell_type": "markdown",
   "id": "de7b4bbc",
   "metadata": {},
   "source": [
    "Графики абсолютно совпадают, значит мы правильно нашли значения **a** $ = 3$ и **b** $ = -2.5$, и при них функция **error** всегда будет равна $0$."
   ]
  },
  {
   "cell_type": "code",
   "execution_count": 220,
   "id": "0d2e8841",
   "metadata": {},
   "outputs": [
    {
     "data": {
      "text/plain": [
       "array([  0.        , -12.01819073, -18.90968635, -17.6878658 ,\n",
       "        -8.75291075,   4.27524498,  16.06801342,  21.81250211,\n",
       "        19.2205984 ,   9.48411219,  -3.22273068, -13.48576482,\n",
       "       -16.91096358, -11.95866839,  -0.5863007 ,  12.56873811,\n",
       "        22.12489431,  24.20292139,  18.04522504,   6.33211092])"
      ]
     },
     "execution_count": 220,
     "metadata": {},
     "output_type": "execute_result"
    }
   ],
   "source": [
    "# Ну и чисто визуально сравним значения функции с теми, которые нам были даны - совпадают\n",
    "f1(x)"
   ]
  },
  {
   "cell_type": "code",
   "execution_count": 213,
   "id": "f79a5272",
   "metadata": {},
   "outputs": [
    {
     "data": {
      "text/plain": [
       "array([  0.        , -12.01819092, -18.90968634, -17.68786571,\n",
       "        -8.7529108 ,   4.27524517,  16.06801336,  21.81250213,\n",
       "        19.22059845,   9.48411207,  -3.22273056, -13.48576488,\n",
       "       -16.91096359, -11.95866834,  -0.58630088,  12.56873816,\n",
       "        22.12489421,  24.20292139,  18.04522521,   6.33211092])"
      ]
     },
     "execution_count": 213,
     "metadata": {},
     "output_type": "execute_result"
    }
   ],
   "source": [
    "fx"
   ]
  },
  {
   "cell_type": "markdown",
   "id": "34bbc915",
   "metadata": {},
   "source": [
    "# Задание 4\n",
    "Создайте собственную дискретную случайную величину с 20 значениями. Сгенерируйте 1000 выборок размера 50. Посчитайте среднее для каждой выборки. Постройте гистограмму распределения средних."
   ]
  },
  {
   "cell_type": "code",
   "execution_count": 123,
   "id": "b9473755",
   "metadata": {},
   "outputs": [
    {
     "data": {
      "text/plain": [
       "array([ 0, 79,  9, 85, 13, 13, 45, 89,  9, 96, 33, 97, 78, 88, 18, 62, 67,\n",
       "       59, 72, 29])"
      ]
     },
     "execution_count": 123,
     "metadata": {},
     "output_type": "execute_result"
    }
   ],
   "source": [
    "# С помощью функции numpy.random.randint зададим случайную величину с 20 значениями:\n",
    "M  = np.random.randint(100, size=20)\n",
    "M"
   ]
  },
  {
   "cell_type": "code",
   "execution_count": 150,
   "id": "fef3f82f",
   "metadata": {},
   "outputs": [
    {
     "data": {
      "text/plain": [
       "1000"
      ]
     },
     "execution_count": 150,
     "metadata": {},
     "output_type": "execute_result"
    }
   ],
   "source": [
    "# С помощью функции numpy.random.choice будем из нашей случайной величины M генерировать выборки размера 50.\n",
    "# Сделаем таких выборок 1000, для каждой из них с помощью функции numpy.mean вычислим среднее арифметическое, а из\n",
    "# полученных средних арифметических создадим набор данных (список) mean\n",
    "mean = []\n",
    "for i in range(1000):\n",
    "    selection = np.random.choice(M, size=50)\n",
    "    mean.append(np.mean(selection))\n",
    "len(mean)"
   ]
  },
  {
   "cell_type": "code",
   "execution_count": 151,
   "id": "ee9565c2",
   "metadata": {},
   "outputs": [
    {
     "data": {
      "image/png": "[encoded data removed]",
      "text/plain": [
       "<Figure size 432x288 with 1 Axes>"
      ]
     },
     "metadata": {
      "needs_background": "light"
     },
     "output_type": "display_data"
    }
   ],
   "source": [
    "# Построим гистограмму распределения средних\n",
    "plt.hist(mean)\n",
    "plt.show()"
   ]
  },
  {
   "cell_type": "markdown",
   "id": "31ea62f1",
   "metadata": {},
   "source": [
    "# Задание 5\n",
    "Найдите собственные значения и собственные вектора матрицы (на python и на бумаге):"
   ]
  },
  {
   "cell_type": "code",
   "execution_count": 144,
   "id": "c2c2b8ab",
   "metadata": {},
   "outputs": [
    {
     "name": "stdout",
     "output_type": "stream",
     "text": [
      "[[1 4]\n",
      " [1 1]]\n"
     ]
    }
   ],
   "source": [
    "m = np.array([[1, 4],\n",
    "              [1, 1]])\n",
    "print(m)"
   ]
  },
  {
   "cell_type": "markdown",
   "id": "ee72aecd",
   "metadata": {},
   "source": [
    "Для начала найдем собственные векора матрицы \"на бумаге\".\n",
    "<br>\n",
    "Для этого решим уравнения:\n",
    "$$\n",
    "x+4y=\\lambda x\n",
    "$$ $$\n",
    "x+y=\\lambda y\n",
    "$$        \n",
    "Или \n",
    "$$\n",
    "(1-\\lambda)x+4y=0\n",
    "$$ $$\n",
    "x+(1-\\lambda)y=0\n",
    "$$\n",
    "Тогда запишем характеристическое урванение:\n",
    "$$\n",
    "(1-\\lambda)(1-\\lambda)-4=0\n",
    "$$\n",
    "или\n",
    "$$\n",
    "\\lambda^2-2\\lambda-3=0\n",
    "$$\n",
    "Корни этого уравнения $\\lambda _1 = 3$ и $\\lambda _2 = -1$  являются искомыми собственными значениями матрицы $m$. \n",
    "<br>\n",
    "Зная $\\lambda$ решаем две системы уравнений:\n",
    "<br>&nbsp;&nbsp;&nbsp;&nbsp;&nbsp;&nbsp;&nbsp;&nbsp;&nbsp;&nbsp;&nbsp;&nbsp;&nbsp;&nbsp;&nbsp;&nbsp;&nbsp;&nbsp;\n",
    "$\\begin {cases}\n",
    " x+4y=3x \\\\\n",
    "x+y=3y\n",
    "\\end {cases}$ &nbsp;&nbsp;&nbsp;&nbsp;&nbsp;&nbsp;и &nbsp;&nbsp;&nbsp;&nbsp;&nbsp;&nbsp;\n",
    "$\\begin {cases}\n",
    " x+4y=-x \\\\\n",
    "x+y=-y\n",
    "\\end {cases}$\n",
    "\n",
    "Для первой системы уравнений (при $\\lambda_1=3$) имеем решение $y = 0.5x$, задающее зависимость координат первого вектора. Вектор может быть, например, такой $\\to (2, 1)$. Если его нормализовать, то получим: $\\left( \\frac{2}{\\sqrt{5}},\\frac{1}{\\sqrt{5}}\\right)$ &nbsp;&nbsp;&nbsp;или можно записать так &nbsp;&nbsp;&nbsp;$\\binom{0.89442719}{0.4472136}$<br> \n",
    "Для второй системы уравнений (при $\\lambda_2=-1$) имеем решение $y = -0.5x$, задающее зависимость координат второго вектора. Вектор может быть, например, такой $\\to (-2, 1)$. Если его нормализовать, то получим: $\\left(\\frac{-2}{\\sqrt{5}},\\frac{1}{\\sqrt{5}}\\right)$ &nbsp;&nbsp;&nbsp;или можно записать так &nbsp;&nbsp;&nbsp;$\\binom{-0.89442719}{0.4472136}$<br> \n"
   ]
  },
  {
   "cell_type": "code",
   "execution_count": 148,
   "id": "2d202578",
   "metadata": {},
   "outputs": [
    {
     "name": "stdout",
     "output_type": "stream",
     "text": [
      "При умножении матрицы m на вектор v1 получаем вектор  [6 3]\n"
     ]
    }
   ],
   "source": [
    "# Проверим полученные вектора\n",
    "v1 = np.array([2, 1])\n",
    "print('При умножении матрицы m на вектор v1 получаем вектор ', m @ v1)"
   ]
  },
  {
   "cell_type": "code",
   "execution_count": 149,
   "id": "3b26254d",
   "metadata": {},
   "outputs": [
    {
     "name": "stdout",
     "output_type": "stream",
     "text": [
      "При умножении матрицы m на вектор v2 получаем вектор [ 2 -1]\n"
     ]
    }
   ],
   "source": [
    "v2 = np.array([-2, 1])\n",
    "print('При умножении матрицы m на вектор v2 получаем вектор', m @ v2)"
   ]
  },
  {
   "cell_type": "code",
   "execution_count": 145,
   "id": "2ee5029b",
   "metadata": {},
   "outputs": [
    {
     "name": "stdout",
     "output_type": "stream",
     "text": [
      " Дана матрица m: \n",
      " [[1 4]\n",
      " [1 1]]\n",
      "Собственные значения матрицы m :  [ 3. -1.]\n",
      "Собственные вектора матрицы m : \n",
      " [[ 0.89442719 -0.89442719]\n",
      " [ 0.4472136   0.4472136 ]]\n"
     ]
    }
   ],
   "source": [
    "# Проверим как решает задачу Python. Воспользуемся функцией np.linalg.eig\n",
    "v, w = np.linalg.eig(m)\n",
    "print(' Дана матрица m: \\n', m)\n",
    "print('Собственные значения матрицы m : ', v)\n",
    "print('Собственные вектора матрицы m : \\n', w)"
   ]
  },
  {
   "cell_type": "markdown",
   "id": "fe16cda6",
   "metadata": {},
   "source": [
    "Т.о. мы получили идентичные результаты. Значит расчет собчтвенных векторов \"на бумаге\" был произведен верно."
   ]
  }
 ],
 "metadata": {
  "kernelspec": {
   "display_name": "Python 3",
   "language": "python",
   "name": "python3"
  },
  "language_info": {
   "codemirror_mode": {
    "name": "ipython",
    "version": 3
   },
   "file_extension": ".py",
   "mimetype": "text/x-python",
   "name": "python",
   "nbconvert_exporter": "python",
   "pygments_lexer": "ipython3",
   "version": "3.8.8"
  }
 },
 "nbformat": 4,
 "nbformat_minor": 5
}
