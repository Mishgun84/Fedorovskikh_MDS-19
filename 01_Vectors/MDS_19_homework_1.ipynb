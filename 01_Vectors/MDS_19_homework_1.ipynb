{
 "cells": [
  {
   "cell_type": "markdown",
   "id": "ece3987b",
   "metadata": {},
   "source": [
    "# Домашнее задание \"Линейная алгебра. Векторы\".\n",
    "\n",
    "Даны вектора x = (1,1), y = (2, 0) и z = (0,2)\n",
    "\n",
    "Надо:\n",
    "\n",
    "- Изобразить вектора на экране\n",
    "- Изобразить точку x + y + z\n",
    "- Найти угол между векторами x и y"
   ]
  },
  {
   "cell_type": "code",
   "execution_count": 87,
   "id": "c24171a5",
   "metadata": {},
   "outputs": [
    {
     "data": {
      "image/png": "[encoded data removed]",
      "text/plain": [
       "<Figure size 360x360 with 1 Axes>"
      ]
     },
     "metadata": {
      "needs_background": "light"
     },
     "output_type": "display_data"
    }
   ],
   "source": [
    "import matplotlib.pyplot as plt\n",
    "import numpy as np\n",
    "from numpy import linalg as LA\n",
    "\n",
    "# Даны три вектора x = (1,1), y = (2, 0) и z = (0,2) :\n",
    "x = np.array([1, 1])\n",
    "y = np.array([2, 0])\n",
    "z = np.array([0, 2])\n",
    "\n",
    "# Изобразим вектора x, y и z, задав координаты их начальных и конечных точек :\n",
    "plt.figure(figsize=(5, 5))\n",
    "plt.plot([0,1], [0, 1])\n",
    "plt.plot([0,2], [0, 0])\n",
    "plt.plot([0,0], [0, 2])\n",
    "plt.show()"
   ]
  },
  {
   "cell_type": "code",
   "execution_count": 61,
   "id": "8fed93ee",
   "metadata": {},
   "outputs": [
    {
     "data": {
      "text/plain": [
       "array([3, 3])"
      ]
     },
     "execution_count": 61,
     "metadata": {},
     "output_type": "execute_result"
    }
   ],
   "source": [
    "# Найдем вектор V = x + y + z :\n",
    "V = x + y + z"
   ]
  },
  {
   "cell_type": "code",
   "execution_count": 88,
   "id": "e25c7e57",
   "metadata": {},
   "outputs": [
    {
     "data": {
      "image/png": "[encoded data removed]",
      "text/plain": [
       "<Figure size 360x360 with 1 Axes>"
      ]
     },
     "metadata": {
      "needs_background": "light"
     },
     "output_type": "display_data"
    }
   ],
   "source": [
    "# Изобразим конечную точку вектора V\n",
    "plt.figure(figsize=(5, 5))\n",
    "plt.plot(V[0], V [1], 'o')\n",
    "plt.show()"
   ]
  },
  {
   "cell_type": "code",
   "execution_count": 70,
   "id": "285fcc83",
   "metadata": {},
   "outputs": [
    {
     "data": {
      "text/plain": [
       "0.7071067811865475"
      ]
     },
     "execution_count": 70,
     "metadata": {},
     "output_type": "execute_result"
    }
   ],
   "source": [
    "# Найдем угол между векторами x и y. Для этого сначала найдем cos угла, разделив скалярное произведение векторов на произведение\n",
    "# длин векторов.\n",
    "\n",
    "cos_xy = np.dot(x,y) / (LA.norm(x) * LA.norm(y))\n",
    "cos_xy"
   ]
  },
  {
   "cell_type": "code",
   "execution_count": 81,
   "id": "d6839ca1",
   "metadata": {},
   "outputs": [
    {
     "name": "stdout",
     "output_type": "stream",
     "text": [
      "Угол между векторами x и y равен  45.00 градусам\n"
     ]
    }
   ],
   "source": [
    "# Зная cos угла найдем угол (выфедем значение в привычных градусах)\n",
    "print(f'Угол между векторами x и y равен {np.degrees(np.arccos(cos_xy)): .2f} градусам')"
   ]
  },
  {
   "cell_type": "code",
   "execution_count": 82,
   "id": "d267ac2b",
   "metadata": {},
   "outputs": [
    {
     "name": "stdout",
     "output_type": "stream",
     "text": [
      "Угол между векторами x и y равен  45.00 градусам\n"
     ]
    }
   ],
   "source": [
    "# С другой функцией то же самое\n",
    "print(f'Угол между векторами x и y равен {np.rad2deg(np.arccos(cos_xy)): .2f} градусам')\n"
   ]
  }
 ],
 "metadata": {
  "kernelspec": {
   "display_name": "Python 3",
   "language": "python",
   "name": "python3"
  },
  "language_info": {
   "codemirror_mode": {
    "name": "ipython",
    "version": 3
   },
   "file_extension": ".py",
   "mimetype": "text/x-python",
   "name": "python",
   "nbconvert_exporter": "python",
   "pygments_lexer": "ipython3",
   "version": "3.8.8"
  }
 },
 "nbformat": 4,
 "nbformat_minor": 5
}
