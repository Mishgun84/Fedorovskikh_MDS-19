{
 "cells": [
  {
   "cell_type": "code",
   "execution_count": 102,
   "id": "8b4f2ed8",
   "metadata": {},
   "outputs": [],
   "source": [
    "import matplotlib.pyplot as plt\n",
    "import numpy as np\n",
    "from numpy import linalg as LA\n"
   ]
  },
  {
   "cell_type": "markdown",
   "id": "912f9c3f",
   "metadata": {},
   "source": [
    "# Домашнее задание \"Продвинутая линейная алгебра\"."
   ]
  },
  {
   "cell_type": "markdown",
   "id": "6f7844c2",
   "metadata": {},
   "source": [
    "## Уровень 0:\n",
    "\n",
    "Придумайте матрицы, которые обладают следующими свойствами \n",
    "(Во всех пунктах ответом должна быть ненулевая матрица размерности не менее 2!):"
   ]
  },
  {
   "cell_type": "code",
   "execution_count": 28,
   "id": "1eef406e",
   "metadata": {},
   "outputs": [
    {
     "name": "stdout",
     "output_type": "stream",
     "text": [
      "[[1 0 0 0]\n",
      " [0 1 0 0]\n",
      " [0 0 1 0]\n",
      " [0 0 0 1]]\n"
     ]
    }
   ],
   "source": [
    "# a) Диагональная, ортогональная, но не единичная(!)\n",
    "# т.е. по диагонали искомой матрицы должны быть элементы, квадраты которых равны 1, но сами элементы не равны 1 (или не все \n",
    "# элементы на диагонали равны 1). Ну пусть тогда на диагонали будут элементы равные -1 (можно все, а можно часть элементов)\n",
    "# тогда матрица будет удовлетворять поставленному условию\n",
    "\n",
    "a1 = np.array([[1, 0, 0, 0],\n",
    "               [0, -1, 0, 0],\n",
    "               [0, 0, 1, 0],\n",
    "               [0, 0, 0, -1]])\n",
    "print(a1 @ a1.T)"
   ]
  },
  {
   "cell_type": "code",
   "execution_count": 16,
   "id": "824b0443",
   "metadata": {},
   "outputs": [],
   "source": [
    "# b) Верхнетреугольная, ортогональная\n",
    "# c) Нижнетреугольная, ортогональная\n",
    "\n",
    "# Согласно Википедии:\n",
    "# верхнетреугольная матрица — квадратная матрица, у которой все элементы ниже главной диагонали равны нулю\n",
    "# нижнетреугольная матрица — квадратная матрица, у которой все элементы выше главной диагонали равны нулю \n",
    "# в обоих случаях ( и в пункте \"b\" и в пункте \"c\") можно взять матрицу из предыдущего пункта \"а\" - она удовлетворяет условиям.\n",
    "a1 = np.array([[1, 0, 0, 0],\n",
    "               [0, -1, 0, 0],\n",
    "               [0, 0, 1, 0],\n",
    "               [0, 0, 0, -1]])\n",
    "\n",
    "# Условие ортогональности будет выполняться для треугольной матрицы только в том случае, если она будет диагональной.\n",
    "# Попробую доказать:\n",
    "# В общем случае, например, для верхнетреугольной матрицы 3х3: [a11 a12 a13], ее транспонированная [a11  0   0 ]\n",
    "#                                                              [0   a22 a23]                       [a12 a22  0 ]\n",
    "#                                                              [0    0  a33]                       [a13 a23 a33]\n",
    "# При перемножении матриц получим :\n",
    "# элементы, расположенные симметрично относительно диагонали и которые должны равняться 0 -  это a12*a22 + a13*a23 = 0\n",
    "#                                                                                                          a13*a33 = 0\n",
    "#                                                                                                          a23*a33 = 0\n",
    "# элементы главной диагонали, который должны равняться 1 - это    a11^2 + a12^2 + a13^2 = 1\n",
    "#                                                                         a22^2 + a23^2 = 1\n",
    "#                                                                                 a33^2 = 1\n",
    "# Диагональный элемент a33 отличен от нуля иначе его квадрат не будет равен 1. Тогда a13=0 и a23=0. Значит a12*a22 = 0,\n",
    "# но a22^2 = 1. Получается, что и a12 = 0. Т.е. для верхнетреугольной матрицы 3х3 все элементы выше диагонали тоже равны 0.\n",
    "# Подозреваю, что такое же верно для любой матрицы nxn. Также будет квадрат последнего элемента равен 1, при этом \n",
    "# произведения с этим элементом должны будут равны 0. \n"
   ]
  },
  {
   "cell_type": "code",
   "execution_count": 17,
   "id": "9938cda8",
   "metadata": {},
   "outputs": [
    {
     "data": {
      "text/plain": [
       "1.0"
      ]
     },
     "execution_count": 17,
     "metadata": {},
     "output_type": "execute_result"
    }
   ],
   "source": [
    "# d) Матрица, у которой определитель = 1, и все элементы не равны 0\n",
    "# Здесь пожалуй ограничусь матрицей 2х2\n",
    "\n",
    "a2 =  np.array([[4, 5],\n",
    "                [3, 4]])\n",
    "np.linalg.det(a2)"
   ]
  },
  {
   "cell_type": "code",
   "execution_count": 69,
   "id": "ee1601b9",
   "metadata": {},
   "outputs": [
    {
     "name": "stdout",
     "output_type": "stream",
     "text": [
      "[[2 2]\n",
      " [1 3]]\n"
     ]
    }
   ],
   "source": [
    "# Найдите собственные значения и собственные вектора матриц:\n",
    "m = np.array([[2, 2],\n",
    "              [1, 3]])\n",
    "print(m)"
   ]
  },
  {
   "cell_type": "markdown",
   "id": "d5804b7b",
   "metadata": {},
   "source": [
    "Я так понимаю в этом задании Python не при делах. Будем просто решать уравнения:\n",
    "\n",
    "Итак <div> 2x + 2y = &#955;x <br>\n",
    "           x + 3y = &#955;y </div>\n",
    "           \n",
    "Или \n",
    "<div> (2 - &#955;)x + 2y = 0 <br>\n",
    "           x + (3 - &#955;)y = 0 </div>\n",
    "\n",
    "Тогда запишем характеристическое урванение:\n",
    "<div> (2 - &#955;)(3 - &#955;) - 2 = 0 </div>\n",
    "или\n",
    "<div> &#955;&sup2; - 5&#955; + 4 = 0 </div>\n",
    "\n",
    "<br>\n",
    "<div>Корни этого уравнения &#955;<sub>1</sub> = 1  и &#955;<sub>2</sub> = 4  являются искомыми собственными значениями матрицы m </div>\n",
    "<br>\n",
    "<div> Зная &#955; решаем еще несколько уравнений. </div>\n",
    "<div>Для  &#955;<sub>1</sub> = 1 имеем решение y = -0.5x, задающее зависимость координат первого вектора. Вектор может быть, например, такой -> (-2, 1).</div> \n",
    "<div>Для  &#955;<sub>2</sub> = 4 имеем решение y = x, задающее зависимость координат второго вектора. Вектор может быть, например, такой -> (1, 1).</div> "
   ]
  },
  {
   "cell_type": "code",
   "execution_count": 22,
   "id": "37992292",
   "metadata": {},
   "outputs": [
    {
     "name": "stdout",
     "output_type": "stream",
     "text": [
      "При умножении матрицы m на вектор v1 получаем вектор  [-2  1]\n"
     ]
    }
   ],
   "source": [
    "# Проверим полученные вектора\n",
    "v1 = np.array([-2, 1])\n",
    "print('При умножении матрицы m на вектор v1 получаем вектор ', m @ v1)"
   ]
  },
  {
   "cell_type": "code",
   "execution_count": 26,
   "id": "eb66bc7c",
   "metadata": {},
   "outputs": [
    {
     "name": "stdout",
     "output_type": "stream",
     "text": [
      "При умножении матрицы m на вектор v2 получаем вектор [4 4] . Если вынести множитель 4 за скобки, то получим вектор [1. 1.]\n"
     ]
    }
   ],
   "source": [
    "v2 = np.array([1, 1])\n",
    "print('При умножении матрицы m на вектор v2 получаем вектор', m @ v2,'. Если вынести множитель 4 за скобки, то получим вектор', m @ v2/4)"
   ]
  },
  {
   "cell_type": "code",
   "execution_count": 70,
   "id": "ca95971d",
   "metadata": {},
   "outputs": [
    {
     "name": "stdout",
     "output_type": "stream",
     "text": [
      " Дана матрица m: \n",
      " [[2 2]\n",
      " [1 3]]\n",
      "Собственные значения матрицы m :  [1. 4.]\n",
      "Собственные вектора матрицы m : \n",
      " [[-0.894 -0.707]\n",
      " [ 0.447 -0.707]]\n"
     ]
    }
   ],
   "source": [
    "# Все-таки проверим как решает задачу Python. Воспользуемся функцией np.linalg.eig\n",
    "v, w = np.linalg.eig(m)\n",
    "print(' Дана матрица m: \\n', m)\n",
    "print('Собственные значения матрицы m : ', v)\n",
    "print('Собственные вектора матрицы m : \\n', w)"
   ]
  },
  {
   "cell_type": "code",
   "execution_count": 57,
   "id": "380febaa",
   "metadata": {},
   "outputs": [],
   "source": [
    "# Т.о. Собственные значения совпадают, а для векторов соблюдена зависимость координат: в одном случае y=-0.5x, в другом y=x\n",
    "# сами значения координат Python выбрал нормализованные (какие-то они некрасивые, нам никто не запрещал брать целые числа)."
   ]
  },
  {
   "cell_type": "markdown",
   "id": "3e932e6c",
   "metadata": {},
   "source": [
    "## Уровень 1:\n",
    "\n",
    "Найдите спектральное разложение матрицы:"
   ]
  },
  {
   "cell_type": "code",
   "execution_count": 76,
   "id": "82216907",
   "metadata": {},
   "outputs": [
    {
     "name": "stdout",
     "output_type": "stream",
     "text": [
      "[[1 2]\n",
      " [2 3]]\n"
     ]
    }
   ],
   "source": [
    "m = np.array([[1, 2],\n",
    "              [2, 3]])\n",
    "print(m)"
   ]
  },
  {
   "cell_type": "code",
   "execution_count": 94,
   "id": "19a32a90",
   "metadata": {},
   "outputs": [
    {
     "name": "stdout",
     "output_type": "stream",
     "text": [
      " Дана матрица m: \n",
      " [[1 2]\n",
      " [2 3]]\n",
      "Собственные значения матрицы m :  [-0.236  4.236]\n",
      "Собственные вектора матрицы m : \n",
      " [[-0.851 -0.526]\n",
      " [ 0.526 -0.851]]\n"
     ]
    }
   ],
   "source": [
    "# Попробовал вычислить собственные значения матрицы вручную, но когда увидел корень из 5, то передумал\n",
    "# Пусть считает Python. Т.к. там длинные дробные значения, то ограничем количество выводимых знаков после запятой\n",
    "np.set_printoptions(precision=3, suppress = True)\n",
    "\n",
    "# Для вычисления собственных значений и векторов Воспользуемся функцией np.linalg.eig\n",
    "v, w = np.linalg.eig(m)\n",
    "print(' Дана матрица m: \\n', m)\n",
    "print('Собственные значения матрицы m : ', v)\n",
    "print('Собственные вектора матрицы m : \\n', w)"
   ]
  },
  {
   "cell_type": "code",
   "execution_count": 97,
   "id": "c1a3c33f",
   "metadata": {},
   "outputs": [
    {
     "name": "stdout",
     "output_type": "stream",
     "text": [
      " Дана матрица m: \n",
      " [[1 2]\n",
      " [2 3]]\n",
      "Собственные значения матрицы m :  [-0.236  4.236]\n",
      "Собственные вектора матрицы m : \n",
      " [[-0.851  0.526]\n",
      " [ 0.526  0.851]]\n"
     ]
    }
   ],
   "source": [
    "# Для симметричной матрицы оказывается есть отдельная функциия - np.linalg.eigh\n",
    "# Проверим ее на наше матрице: \n",
    "v, w = np.linalg.eigh(m)\n",
    "print(' Дана матрица m: \\n', m)\n",
    "print('Собственные значения матрицы m : ', v)\n",
    "print('Собственные вектора матрицы m : \\n', w)\n",
    "# Функция np.linalg.eigh дает практически такой же результат. Отличаиется только знак у координат второго вектора.\n",
    "# Наверное это отличие не имеет особого значения. Соотношение координат сохраняется"
   ]
  },
  {
   "cell_type": "code",
   "execution_count": 92,
   "id": "b3b815d8",
   "metadata": {},
   "outputs": [
    {
     "data": {
      "text/plain": [
       "array([[-0.236,  0.   ],\n",
       "       [ 0.   ,  4.236]])"
      ]
     },
     "execution_count": 92,
     "metadata": {},
     "output_type": "execute_result"
    }
   ],
   "source": [
    "# Составим диагональную матрицу из полученных собственных значений\n",
    "D = np.diag(v)\n",
    "D"
   ]
  },
  {
   "cell_type": "code",
   "execution_count": 98,
   "id": "1a1950bf",
   "metadata": {},
   "outputs": [
    {
     "name": "stdout",
     "output_type": "stream",
     "text": [
      "Матрица собственных векторов : \n",
      " [[-0.851  0.526]\n",
      " [ 0.526  0.851]]\n",
      "Транспонированная матрица собственных векторов : \n",
      " [[-0.851  0.526]\n",
      " [ 0.526  0.851]]\n",
      "Матрица, полученная в результате перемножения найденных матриц S.T * D * S :\n",
      " [[1. 2.]\n",
      " [2. 3.]]\n"
     ]
    }
   ],
   "source": [
    "# Создадим матрицу собственных векторов\n",
    "S = w.T\n",
    "# S.T @ D @ S\n",
    "print('Матрица собственных векторов : \\n', S)\n",
    "print('Транспонированная матрица собственных векторов : \\n', S.T)\n",
    "print('Матрица, полученная в результате перемножения найденных матриц S.T * D * S :\\n', S.T @ D @ S)"
   ]
  },
  {
   "cell_type": "code",
   "execution_count": 88,
   "id": "5e251093",
   "metadata": {},
   "outputs": [],
   "source": [
    "# т.е. в результате пермножения матриц мы получили исходную. Значит правильно нашли спектральное разложение матрицы."
   ]
  },
  {
   "cell_type": "markdown",
   "id": "9c841d3a",
   "metadata": {},
   "source": [
    "## Вот с этим честно не разобрался. Возможно что-то неправильно понял и не то сделал. Но времени до Нового года мало, а в новогодние праздники никто не даст учиться. Для себя тему отметил, разберусь потом\n",
    "\n",
    "Постройте зависимость качества восстановления рукописных цифр (MNIST) в зависимости от различного количества компонент PCA. В качестве метрики различия предлагаю использовать MSE.*"
   ]
  },
  {
   "cell_type": "code",
   "execution_count": 116,
   "id": "0e069e25",
   "metadata": {},
   "outputs": [],
   "source": [
    "from sklearn.datasets import load_digits\n",
    "from sklearn.decomposition import PCA\n",
    "from sklearn.metrics import mean_squared_error\n",
    "\n",
    "# Загружаем датасет с числами\n",
    "digits = load_digits()\n"
   ]
  },
  {
   "cell_type": "code",
   "execution_count": 160,
   "id": "f65ce1b1",
   "metadata": {},
   "outputs": [
    {
     "data": {
      "text/plain": [
       "<Figure size 432x288 with 0 Axes>"
      ]
     },
     "metadata": {},
     "output_type": "display_data"
    },
    {
     "data": {
      "image/png": "[encoded data removed]",
      "text/plain": [
       "<Figure size 288x288 with 1 Axes>"
      ]
     },
     "metadata": {
      "needs_background": "light"
     },
     "output_type": "display_data"
    },
    {
     "name": "stdout",
     "output_type": "stream",
     "text": [
      "Массив данных для отображаемой цифры:\n",
      " [[ 0.  0.  7.  8. 13. 16. 15.  1.]\n",
      " [ 0.  0.  7.  7.  4. 11. 12.  0.]\n",
      " [ 0.  0.  0.  0.  8. 13.  1.  0.]\n",
      " [ 0.  4.  8.  8. 15. 15.  6.  0.]\n",
      " [ 0.  2. 11. 15. 15.  4.  0.  0.]\n",
      " [ 0.  0.  0. 16.  5.  0.  0.  0.]\n",
      " [ 0.  0.  9. 15.  1.  0.  0.  0.]\n",
      " [ 0.  0. 13.  5.  0.  0.  0.  0.]]\n"
     ]
    }
   ],
   "source": [
    "# Будем разбираться на примере с цифрой 7. Укажу рассматриваемую цифру в переменной d\n",
    "d = 7\n",
    "plt.gray()\n",
    "plt.matshow(digits.images[d])\n",
    "\n",
    "plt.show()\n",
    "print('Массив данных для отображаемой цифры:\\n',digits.images[d])"
   ]
  },
  {
   "cell_type": "code",
   "execution_count": 164,
   "id": "3f4f2326",
   "metadata": {},
   "outputs": [],
   "source": [
    "def quality_test(d,n):\n",
    "    \"\"\"\n",
    "    Функция на вход принимает d - цифра, для которой берется массив данных\n",
    "    n - количество компонентов для анализа\n",
    "    Возвращает функция метрику MSE между исходными данными и восстановленными\n",
    "    \"\"\"\n",
    "# Зададим в переменную X исходный массив данных  \n",
    "    X = digits.images[d]\n",
    "# Задаем количество для Анализ основных компонентов\n",
    "    pca = PCA(n_components=n)\n",
    "# Обучаем модель\n",
    "    pca.fit(X)\n",
    "# Сначала снижаем размерность данных\n",
    "    X1 = pca.transform(X)\n",
    "    plt.matshow(X1)\n",
    "    print('Массив данных после уменьшения размерности : \\n',X1)\n",
    "# Теперь восстанавливаем данные\n",
    "    X_restored = pca.inverse_transform(X1)\n",
    "    plt.matshow(X_restored)\n",
    "    print('Массив данных после восстановления : \\n',X_restored)\n",
    "    return(mean_squared_error(X, X_restored))\n",
    "    "
   ]
  },
  {
   "cell_type": "code",
   "execution_count": 166,
   "id": "aa2a46d6",
   "metadata": {},
   "outputs": [
    {
     "name": "stdout",
     "output_type": "stream",
     "text": [
      "Массив данных после уменьшения размерности : \n",
      " [[ 13.844   1.843  -4.114   2.787  -1.32    0.472  -0.193   0.   ]\n",
      " [  5.503  -4.598  -5.334   3.421   0.444  -0.365   0.292   0.   ]\n",
      " [  5.889  -7.672   8.903  -1.624  -0.209   0.522   0.056   0.   ]\n",
      " [  9.643   4.348   1.511  -3.244   1.958  -0.674  -0.109   0.   ]\n",
      " [ -3.51   10.26    0.862  -3.991  -1.067   0.232   0.197   0.   ]\n",
      " [ -9.843   2.112   4.763   6.923  -0.561  -0.688  -0.073   0.   ]\n",
      " [-11.911   0.293  -2.548   1.518   1.666   0.982  -0.056   0.   ]\n",
      " [ -9.615  -6.586  -4.043  -5.789  -0.911  -0.482  -0.114   0.   ]]\n",
      "Массив данных после восстановления : \n",
      " [[ 0. -0.  7.  8. 13. 16. 15.  1.]\n",
      " [ 0.  0.  7.  7.  4. 11. 12. -0.]\n",
      " [ 0. -0.  0.  0.  8. 13.  1.  0.]\n",
      " [ 0.  4.  8.  8. 15. 15.  6.  0.]\n",
      " [ 0.  2. 11. 15. 15.  4. -0.  0.]\n",
      " [ 0.  0.  0. 16.  5. -0.  0. -0.]\n",
      " [ 0.  0.  9. 15.  1. -0. -0. -0.]\n",
      " [ 0.  0. 13.  5.  0. -0. -0. -0.]]\n",
      "Показатель различия исходных и восстановленных данных для цифры 7 и кол-ва компонентов 8:  2.1139837626882818e-29\n"
     ]
    },
    {
     "data": {
      "image/png": "[encoded data removed]",
      "text/plain": [
       "<Figure size 288x288 with 1 Axes>"
      ]
     },
     "metadata": {
      "needs_background": "light"
     },
     "output_type": "display_data"
    },
    {
     "data": {
      "image/png": "[encoded data removed]",
      "text/plain": [
       "<Figure size 288x288 with 1 Axes>"
      ]
     },
     "metadata": {
      "needs_background": "light"
     },
     "output_type": "display_data"
    }
   ],
   "source": [
    "# Сначала зададим все компоненты\n",
    "n = 8\n",
    "print(f'Показатель различия исходных и восстановленных данных для цифры {d} и кол-ва компонентов {n}: ', quality_test(d,n))"
   ]
  },
  {
   "cell_type": "code",
   "execution_count": 172,
   "id": "490ee97e",
   "metadata": {},
   "outputs": [
    {
     "name": "stdout",
     "output_type": "stream",
     "text": [
      "[1, 2, 3, 4, 5, 6, 7, 8]\n",
      "[8.98222837208926, 4.989928566977868, 2.283962815854165, 0.21688105721983275, 0.04694088846567067, 0.003091980604028509, 2.009719934030233e-29, 2.1139837626882818e-29]\n"
     ]
    }
   ],
   "source": [
    "# В задании написано постройте зависимость. Видимо надо на графике изобразить. Для получения координат функция quality_test\n",
    "# не подходит, много лишнего на экран выводит. Сделаю еще одну без вывода на экран\n",
    "\n",
    "def quality_test1(d,n):\n",
    "    \"\"\"\n",
    "    Функция на вход принимает d - цифра, для которой берется массив данных\n",
    "    n - количество компонентов для анализа\n",
    "    Возвращает функция метрику MSE между исходными данными и восстановленными\n",
    "    \"\"\"\n",
    "# Зададим в переменную X исходный массив данных  \n",
    "    X = digits.images[d]\n",
    "# Задаем количество для Анализ основных компонентов\n",
    "    pca = PCA(n_components=n)\n",
    "# Обучаем модель\n",
    "    pca.fit(X)\n",
    "# Сначала снижаем размерность данных\n",
    "    X1 = pca.transform(X)\n",
    "# Теперь восстанавливаем данные\n",
    "    X_restored = pca.inverse_transform(X1)\n",
    "    return(mean_squared_error(X, X_restored))\n",
    "\n",
    "#\n",
    "x=[]\n",
    "y=[]\n",
    "for i in range(8):\n",
    "    n = i+1\n",
    "    x.insert(i,n)\n",
    "    y.insert(i,quality_test1(d,n))\n",
    "\n",
    "print(x)\n",
    "print(y)"
   ]
  },
  {
   "cell_type": "code",
   "execution_count": 176,
   "id": "f100b5e5",
   "metadata": {},
   "outputs": [
    {
     "data": {
      "image/png": "[encoded data removed]",
      "text/plain": [
       "<Figure size 432x288 with 1 Axes>"
      ]
     },
     "metadata": {
      "needs_background": "light"
     },
     "output_type": "display_data"
    }
   ],
   "source": [
    "# Изобразим на графике зависимость качества восстановления в зависимости от различного количества компонент PCA\n",
    "plt.plot(x,y, 'bo')\n",
    "plt.plot(x,y)\n",
    "plt.show()"
   ]
  }
 ],
 "metadata": {
  "kernelspec": {
   "display_name": "Python 3",
   "language": "python",
   "name": "python3"
  },
  "language_info": {
   "codemirror_mode": {
    "name": "ipython",
    "version": 3
   },
   "file_extension": ".py",
   "mimetype": "text/x-python",
   "name": "python",
   "nbconvert_exporter": "python",
   "pygments_lexer": "ipython3",
   "version": "3.8.8"
  }
 },
 "nbformat": 4,
 "nbformat_minor": 5
}
