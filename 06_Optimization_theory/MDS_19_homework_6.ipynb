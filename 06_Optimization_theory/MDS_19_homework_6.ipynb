{
 "cells": [
  {
   "cell_type": "markdown",
   "id": "411dad75",
   "metadata": {},
   "source": [
    "# Домашнее задание \"Теория оптимизации\".\n",
    "\n",
    "## Задание.\n",
    "\n",
    "При фиксированном seed=42 поразбирайтесь и поэкспериментируйте с параметрами алгоритма дифференциальной эволюции: strategy, popsize, tol, mutation, recombination и updating.\n",
    "\n",
    "Постройте графики количества итераций оптимизации функции ackley от значения параметра."
   ]
  },
  {
   "cell_type": "code",
   "execution_count": 2,
   "id": "dbc06768",
   "metadata": {},
   "outputs": [],
   "source": [
    "import numpy as np\n",
    "import matplotlib.pyplot as plt\n",
    "from scipy.optimize import dual_annealing\n",
    "from scipy.optimize import differential_evolution\n",
    "from scipy.optimize import basinhopping"
   ]
  },
  {
   "cell_type": "code",
   "execution_count": 4,
   "id": "a99312e2",
   "metadata": {},
   "outputs": [
    {
     "data": {
      "text/plain": [
       "     fun: 0.0\n",
       " message: 'Optimization terminated successfully.'\n",
       "    nfev: 3033\n",
       "     nit: 100\n",
       " success: True\n",
       "       x: array([0., 0.])"
      ]
     },
     "execution_count": 4,
     "metadata": {},
     "output_type": "execute_result"
    }
   ],
   "source": [
    "# Опять мне лично мало входных данных. Вообще мне кажется, что домашние задания были изначально подготовлены для другого\n",
    "# курса, с другими лекциями, с другим информационным наполнением. Потом мнформационное наполнение лекций сократили, а ДЗ\n",
    "# не поменяли.\n",
    "# К какой функции применять алгоритм дифференциальной эволюции? Предположу, что надо взять какую-то (на мое усмотрение) со\n",
    "# со страницы Википедии (https://en.wikipedia.org/wiki/Test_functions_for_optimization). Мне понравилась из-за ее названия\n",
    "# функция Three-hump camel function\n",
    "\n",
    "# Зададим эту функцию:\n",
    "def Three_hump_camel_fun(x):\n",
    "    return 2*x[0]**2 - 1.05*x[0]**4 + (x[0]**6)/6 + x[0]*x[1] + x[1]**2\n",
    "\n",
    "# задаем пределы изменения переменных\n",
    "bounds = [(-5, 5), (-5, 5)]\n",
    "\n",
    "# Для нашей верблюжей функции и заданных границ переменных применим функцию differential_evolution с параматерами по \n",
    "# умолчанию и seed=42\n",
    "result0 = differential_evolution(Three_hump_camel_fun, bounds, seed=42)\n",
    "result0"
   ]
  },
  {
   "cell_type": "markdown",
   "id": "4c9c7aa8",
   "metadata": {},
   "source": [
    "Итак, функция вернула результат:<br>\n",
    "Оптимум функции равен **0** <br>\n",
    "Оптимизация завершена успешно<br>\n",
    "Количество оценок целевых функций **3033**<br>\n",
    "Количество выполненных итераций **100** <br>\n",
    "Успех и правда успех. И вообще скоро Новый год! <br>\n",
    "Оптимум функции достигается в точке **[0, 0]**<br>"
   ]
  },
  {
   "cell_type": "code",
   "execution_count": 5,
   "id": "69588bba",
   "metadata": {},
   "outputs": [
    {
     "data": {
      "text/plain": [
       "     fun: 0.0\n",
       " message: 'Optimization terminated successfully.'\n",
       "    nfev: 10563\n",
       "     nit: 351\n",
       " success: True\n",
       "       x: array([0., 0.])"
      ]
     },
     "execution_count": 5,
     "metadata": {},
     "output_type": "execute_result"
    }
   ],
   "source": [
    "# Теперь изменим параметр strategy. По умолчанию он strategy='best1bin'. Укажем, например, strategy='rand2exp'\n",
    "result1 = differential_evolution(Three_hump_camel_fun, bounds, strategy='rand2exp', seed=42)\n",
    "result1"
   ]
  },
  {
   "cell_type": "markdown",
   "id": "0801621a",
   "metadata": {},
   "source": [
    "Здесь сразу оговорюсь: все результаты экспериментов буду сравнивать с result0 - резултатом для параметров по умолчанию<br>\n",
    "Оптимум функции так же равен **0** <br>\n",
    "Количество оценок целевых функций увеличелось до **10563**<br>\n",
    "Количество выполненных итераций увеличелось до **351** <br>\n",
    "Оптимум функции так же достигается в точке **[0, 0]**<br>"
   ]
  },
  {
   "cell_type": "code",
   "execution_count": 17,
   "id": "da202907",
   "metadata": {},
   "outputs": [
    {
     "data": {
      "text/plain": [
       "     fun: 0.0\n",
       " message: 'Optimization terminated successfully.'\n",
       "    nfev: 8271\n",
       "     nit: 105\n",
       " success: True\n",
       "       x: array([0., 0.])"
      ]
     },
     "execution_count": 17,
     "metadata": {},
     "output_type": "execute_result"
    }
   ],
   "source": [
    "# Теперь изменим параметр popsize - множитель для определения общей численности популяции. \n",
    "# По умолчанию он popsize=15. Укажем, например, popsize=75\n",
    "result2 = differential_evolution(Three_hump_camel_fun, bounds, popsize=39, seed=42)\n",
    "result2"
   ]
  },
  {
   "cell_type": "markdown",
   "id": "5221b14b",
   "metadata": {},
   "source": [
    "Оптимум функции так же равен **0** <br>\n",
    "Количество оценок целевых функций увеличелось до **8271**<br>\n",
    "Количество выполненных итераций увеличелось до **105** <br>\n",
    "Оптимум функции так же достигается в точке **[0, 0]**<br>"
   ]
  },
  {
   "cell_type": "code",
   "execution_count": 16,
   "id": "7f4755db",
   "metadata": {},
   "outputs": [
    {
     "data": {
      "text/plain": [
       "     fun: 0.0\n",
       " message: 'Optimization terminated successfully.'\n",
       "    nfev: 883\n",
       "     nit: 109\n",
       " success: True\n",
       "       x: array([0., 0.])"
      ]
     },
     "execution_count": 16,
     "metadata": {},
     "output_type": "execute_result"
    }
   ],
   "source": [
    "# Укажем, например, popsize=3\n",
    "result2 = differential_evolution(Three_hump_camel_fun, bounds, popsize=4, seed=42)\n",
    "result2"
   ]
  },
  {
   "cell_type": "markdown",
   "id": "6603e7bb",
   "metadata": {},
   "source": [
    "Оптимум функции так же равен **0** <br>\n",
    "Количество оценок целевых функций сократилось до **883**<br>\n",
    "Количество выполненных итераций увеличелось до **109** <br>\n",
    "Оптимум функции так же достигается в точке **[0, 0]**<br>"
   ]
  },
  {
   "cell_type": "code",
   "execution_count": 23,
   "id": "8ee41cd0",
   "metadata": {},
   "outputs": [
    {
     "data": {
      "text/plain": [
       "     fun: 0.0\n",
       " message: 'Optimization terminated successfully.'\n",
       "    nfev: 3033\n",
       "     nit: 100\n",
       " success: True\n",
       "       x: array([0., 0.])"
      ]
     },
     "execution_count": 23,
     "metadata": {},
     "output_type": "execute_result"
    }
   ],
   "source": [
    "# Теперь изменим параметр tol - относительный допуск для сходимости. По умолчанию он tol=0.01. \n",
    "# Укажем, например, tol=0.0005\n",
    "result3 = differential_evolution(Three_hump_camel_fun, bounds, tol=0.0005, seed=42)\n",
    "result3"
   ]
  },
  {
   "cell_type": "markdown",
   "id": "02c347b1",
   "metadata": {},
   "source": [
    "Уменьшение параметра tol в 20 раз не повлияло на результат - такой же как у result0"
   ]
  },
  {
   "cell_type": "code",
   "execution_count": 22,
   "id": "64abcfb2",
   "metadata": {},
   "outputs": [
    {
     "data": {
      "text/plain": [
       "     fun: 1.8143565380354957e-13\n",
       "     jac: array([-8.02564897e-07,  3.86601506e-07])\n",
       " message: 'Optimization terminated successfully.'\n",
       "    nfev: 105\n",
       "     nit: 2\n",
       " success: True\n",
       "       x: array([-2.88818757e-07,  3.32710131e-07])"
      ]
     },
     "execution_count": 22,
     "metadata": {},
     "output_type": "execute_result"
    }
   ],
   "source": [
    "# Укажем, например, tol=0.8\n",
    "result3 = differential_evolution(Three_hump_camel_fun, bounds, tol=0.8, seed=42)\n",
    "result3"
   ]
  },
  {
   "cell_type": "markdown",
   "id": "cd9c1dbf",
   "metadata": {},
   "source": [
    "Если постепенно увеличивать параметр tol, то по началу так же результат не меняется, но при каком-то достаточно большом значении начинает страдать точность получаемых результатов. Например, при tol=0.8 было выполнено всего 2 итерации и в качестве решений получены значения близкие к нулю, но не равные нулю. "
   ]
  },
  {
   "cell_type": "code",
   "execution_count": 32,
   "id": "d4572b57",
   "metadata": {},
   "outputs": [
    {
     "data": {
      "text/plain": [
       "     fun: 0.0\n",
       " message: 'Optimization terminated successfully.'\n",
       "    nfev: 813\n",
       "     nit: 26\n",
       " success: True\n",
       "       x: array([0., 0.])"
      ]
     },
     "execution_count": 32,
     "metadata": {},
     "output_type": "execute_result"
    }
   ],
   "source": [
    "# Теперь изменим параметр mutation - постоянную мутации. По умолчанию mutation=(0.5, 1). \n",
    "# Укажем, например, mutation=(0.1, 0.2)\n",
    "result4 = differential_evolution(Three_hump_camel_fun, bounds, mutation=(0.1, 0.2), seed=42)\n",
    "result4"
   ]
  },
  {
   "cell_type": "markdown",
   "id": "866c7525",
   "metadata": {},
   "source": [
    "Оптимум функции так же равен **0** <br>\n",
    "Количество оценок целевых функций сократилось до **813**<br>\n",
    "Количество выполненных итераций увеличелось до **26** <br>\n",
    "Оптимум функции так же достигается в точке **[0, 0]**<br>"
   ]
  },
  {
   "cell_type": "code",
   "execution_count": 36,
   "id": "f7f89ad7",
   "metadata": {},
   "outputs": [
    {
     "data": {
      "text/plain": [
       "     fun: 1.232595164407831e-30\n",
       " message: 'Optimization terminated successfully.'\n",
       "    nfev: 13203\n",
       "     nit: 439\n",
       " success: True\n",
       "       x: array([0.00000000e+00, 1.11022302e-15])"
      ]
     },
     "execution_count": 36,
     "metadata": {},
     "output_type": "execute_result"
    }
   ],
   "source": [
    "# Укажем, например, mutation=(1.9, 1.99)\n",
    "result4 = differential_evolution(Three_hump_camel_fun, bounds, mutation=(1.9, 1.99), seed=42)\n",
    "result4"
   ]
  },
  {
   "cell_type": "markdown",
   "id": "fef579ea",
   "metadata": {},
   "source": [
    "Здесь уже точность немного пострадала: снова  в качестве решений получены значения близкие к нулю, но не равные нулю <br>\n",
    "При этом <br>\n",
    "Количество оценок целевых функций увеличелось до **13203**<br>\n",
    "Количество выполненных итераций увеличелось до **439** <br>"
   ]
  },
  {
   "cell_type": "code",
   "execution_count": 40,
   "id": "0a341fff",
   "metadata": {},
   "outputs": [
    {
     "data": {
      "text/plain": [
       "     fun: 0.0\n",
       " message: 'Optimization terminated successfully.'\n",
       "    nfev: 2493\n",
       "     nit: 82\n",
       " success: True\n",
       "       x: array([0., 0.])"
      ]
     },
     "execution_count": 40,
     "metadata": {},
     "output_type": "execute_result"
    }
   ],
   "source": [
    "# Теперь изменим параметр recombination - константа рекомбинации. По умолчанию recombination=0.7. \n",
    "# Укажем, например, recombination=0.99\n",
    "result5 = differential_evolution(Three_hump_camel_fun, bounds, recombination=0.99, seed=42)\n",
    "result5"
   ]
  },
  {
   "cell_type": "code",
   "execution_count": 39,
   "id": "726e6fbc",
   "metadata": {},
   "outputs": [
    {
     "data": {
      "text/plain": [
       "     fun: 0.0\n",
       " message: 'Optimization terminated successfully.'\n",
       "    nfev: 6303\n",
       "     nit: 209\n",
       " success: True\n",
       "       x: array([0., 0.])"
      ]
     },
     "execution_count": 39,
     "metadata": {},
     "output_type": "execute_result"
    }
   ],
   "source": [
    "# Укажем, например, recombination=0.01\n",
    "result5 = differential_evolution(Three_hump_camel_fun, bounds, recombination=0.01, seed=42)\n",
    "result5"
   ]
  },
  {
   "cell_type": "markdown",
   "id": "65fd945c",
   "metadata": {},
   "source": [
    "В обоих случаях найдены верные решения. При увеличении значения константы рекомбинации количество целевых функций и количество выполненных итераций сокращается, а при уменьшении - увеличивается."
   ]
  },
  {
   "cell_type": "code",
   "execution_count": 45,
   "id": "1c960378",
   "metadata": {},
   "outputs": [
    {
     "data": {
      "text/plain": [
       "     fun: 0.0\n",
       " message: 'Optimization terminated successfully.'\n",
       "    nfev: 3783\n",
       "     nit: 125\n",
       " success: True\n",
       "       x: array([0., 0.])"
      ]
     },
     "execution_count": 45,
     "metadata": {},
     "output_type": "execute_result"
    }
   ],
   "source": [
    "# Теперь изменим параметр updating. По умолчанию updating='immediate'. \n",
    "# Он может принимать второе значение updating='deferred'\n",
    "result6 = differential_evolution(Three_hump_camel_fun, bounds, updating='deferred', seed=42)\n",
    "result6"
   ]
  },
  {
   "cell_type": "markdown",
   "id": "89cbf704",
   "metadata": {},
   "source": [
    "Оптимум функции так же равен **0** <br>\n",
    "Количество оценок целевых функций увеличелось до **3783**<br>\n",
    "Количество выполненных итераций увеличелось до **125** <br>\n",
    "Оптимум функции так же достигается в точке **[0, 0]**<br>"
   ]
  },
  {
   "cell_type": "markdown",
   "id": "28d9ff22",
   "metadata": {},
   "source": [
    "***"
   ]
  },
  {
   "cell_type": "markdown",
   "id": "986a9ceb",
   "metadata": {},
   "source": [
    "Постройте графики количества итераций оптимизации функции ackley от значения параметра.\n",
    "\n",
    "\n"
   ]
  },
  {
   "cell_type": "code",
   "execution_count": null,
   "id": "bd6caefe",
   "metadata": {},
   "outputs": [],
   "source": [
    "От значения какого параметра? Я могу любой параметр выбрать"
   ]
  },
  {
   "cell_type": "markdown",
   "id": "cb3ef70c",
   "metadata": {},
   "source": [
    "В математической оптимизации функция  Ackley редставляет собой невыпуклую функцию, используемую в качестве проверки производительности алгоритмов оптимизации. Она была предложена Дэвидом Экли в его докторской диссертации 1987 года.\n",
    "\n",
    "В двумерной области она определяется:\n",
    "\n",
    "\\begin{aligned}f(x,y)=-20&{}\\exp \\left[-0.2{\\sqrt {0.5(x^{2}+y^{2})}}\\,\\right]\\\\&{}-\\exp \\left[0.5\\left(\\cos 2\\pi x+\\cos 2\\pi y\\right)\\right]+e+20\\end{aligned}\n",
    " \n",
    "Ее глобальный оптимум:\n",
    "\n",
    " \\begin{aligned}f(0,0)=0\\end{aligned}"
   ]
  }
 ],
 "metadata": {
  "kernelspec": {
   "display_name": "Python 3",
   "language": "python",
   "name": "python3"
  },
  "language_info": {
   "codemirror_mode": {
    "name": "ipython",
    "version": 3
   },
   "file_extension": ".py",
   "mimetype": "text/x-python",
   "name": "python",
   "nbconvert_exporter": "python",
   "pygments_lexer": "ipython3",
   "version": "3.8.8"
  }
 },
 "nbformat": 4,
 "nbformat_minor": 5
}
