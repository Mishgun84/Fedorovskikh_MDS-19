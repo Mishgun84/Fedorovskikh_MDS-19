{
 "cells": [
  {
   "cell_type": "markdown",
   "id": "e0d8eeb7",
   "metadata": {},
   "source": [
    "# Домашнее задание \"Линейная алгебра. Матрицы\".\n",
    "\n",
    "### Уровень 0:\n",
    "\n",
    "Создайте матрицу 3 на 3, заполненную числами от 1 до 9\n",
    "\n",
    "Прибавьте к ней матрицу с единицами на диагонале\n",
    "\n",
    "Умножьте полученную матрицу на вектор (1, 2, 3)\n",
    "\n",
    "Посчитайте обратную матрицу к полученной в результате прибавления матрице\n",
    "\n",
    "\n",
    "### Уровень 1:\n",
    "\n",
    "Дан объект в 2d пространстве:\n",
    "\n",
    "import numpy as np\n",
    "\n",
    "import matplotlib.pyplot as plt\n",
    "\n",
    "A = [\n",
    "\n",
    "[-100, -100, 1],\n",
    "\n",
    "[-100, 100, 1],\n",
    "\n",
    "[100, 100, 1],\n",
    "\n",
    "[0, 0, 1],\n",
    "\n",
    "[100, -100, 1],\n",
    "\n",
    "[-100, -100, 1]\n",
    "\n",
    "]\n",
    "\n",
    "A = np.array(A)\n",
    "\n",
    "x = A[:,0]\n",
    "\n",
    "y = A[:,1]\n",
    "\n",
    "plt.plot(x, y)\n",
    "\n",
    "plt.ylim([-200, 200])\n",
    "\n",
    "plt.xlim([-200, 200])\n",
    "\n",
    "При помощи матричных операций выполните:\n",
    "\n",
    "Уменьшить объект в два раза\n",
    "\n",
    "Повернуть на 130 градусов\n",
    "\n",
    "Отразить объект относительно прямой y=x\n",
    "\n",
    "Выполнить смещение объекта и масштабирование (применить 2 матрицы трансформаций). Смещение на (200, 300) и масштабирование на (0.5, 1.2)"
   ]
  },
  {
   "cell_type": "markdown",
   "id": "28329e8f",
   "metadata": {},
   "source": [
    "## Уровень 0"
   ]
  },
  {
   "cell_type": "code",
   "execution_count": 83,
   "id": "e47a8a1c",
   "metadata": {},
   "outputs": [
    {
     "data": {
      "text/plain": [
       "array([[1, 2, 3],\n",
       "       [4, 5, 6],\n",
       "       [7, 8, 9]])"
      ]
     },
     "execution_count": 83,
     "metadata": {},
     "output_type": "execute_result"
    }
   ],
   "source": [
    "import matplotlib.pyplot as plt\n",
    "import numpy as np\n",
    "from numpy import linalg as LA\n",
    "\n",
    "# Создайте матрицу 3 на 3, заполненную числами от 1 до 9\n",
    "A = np.array([[1, 2, 3], [4, 5, 6], [7, 8, 9]])\n",
    "A"
   ]
  },
  {
   "cell_type": "code",
   "execution_count": 84,
   "id": "e9069f86",
   "metadata": {},
   "outputs": [
    {
     "data": {
      "text/plain": [
       "array([[1., 0., 0.],\n",
       "       [0., 1., 0.],\n",
       "       [0., 0., 1.]])"
      ]
     },
     "execution_count": 84,
     "metadata": {},
     "output_type": "execute_result"
    }
   ],
   "source": [
    "# Прибавьте к ней матрицу с единицами на диагонали. Для этого сначала создадим единичную матрицу:\n",
    "I = np.eye(3)\n",
    "I"
   ]
  },
  {
   "cell_type": "code",
   "execution_count": 85,
   "id": "b81d878a",
   "metadata": {},
   "outputs": [
    {
     "data": {
      "text/plain": [
       "array([[ 2.,  2.,  3.],\n",
       "       [ 4.,  6.,  6.],\n",
       "       [ 7.,  8., 10.]])"
      ]
     },
     "execution_count": 85,
     "metadata": {},
     "output_type": "execute_result"
    }
   ],
   "source": [
    "# Прибавим к исходной матрице единичную матрицу\n",
    "B = A + I\n",
    "B"
   ]
  },
  {
   "cell_type": "code",
   "execution_count": 86,
   "id": "b31645bb",
   "metadata": {},
   "outputs": [
    {
     "data": {
      "text/plain": [
       "array([15., 34., 53.])"
      ]
     },
     "execution_count": 86,
     "metadata": {},
     "output_type": "execute_result"
    }
   ],
   "source": [
    "# Умножьте полученную матрицу на вектор (1, 2, 3)\n",
    "\n",
    "v = np.array([1, 2, 3])\n",
    "\n",
    "# Умножим на вектор справа (вектор столбец)\n",
    "C = B @ v\n",
    "C"
   ]
  },
  {
   "cell_type": "code",
   "execution_count": 87,
   "id": "b1c8da22",
   "metadata": {},
   "outputs": [
    {
     "data": {
      "text/plain": [
       "array([31., 38., 45.])"
      ]
     },
     "execution_count": 87,
     "metadata": {},
     "output_type": "execute_result"
    }
   ],
   "source": [
    "# Умножим на вектор слева (вектор строка)\n",
    "D = v @ B\n",
    "D"
   ]
  },
  {
   "cell_type": "code",
   "execution_count": 88,
   "id": "ba9f2863",
   "metadata": {},
   "outputs": [
    {
     "data": {
      "text/plain": [
       "array([[-6. , -2. ,  3. ],\n",
       "       [-1. ,  0.5,  0. ],\n",
       "       [ 5. ,  1. , -2. ]])"
      ]
     },
     "execution_count": 88,
     "metadata": {},
     "output_type": "execute_result"
    }
   ],
   "source": [
    "# Посчитайте обратную матрицу к полученной в результате прибавления матрице\n",
    "b = np.linalg.inv(B)\n",
    "\n",
    "b"
   ]
  },
  {
   "cell_type": "code",
   "execution_count": 12,
   "id": "c71d73f3",
   "metadata": {},
   "outputs": [
    {
     "data": {
      "text/plain": [
       "array([[ 1.00000000e+00, -4.44089210e-16,  8.88178420e-16],\n",
       "       [ 0.00000000e+00,  1.00000000e+00,  1.77635684e-15],\n",
       "       [ 0.00000000e+00,  0.00000000e+00,  1.00000000e+00]])"
      ]
     },
     "execution_count": 12,
     "metadata": {},
     "output_type": "execute_result"
    }
   ],
   "source": [
    "# Проверим, что в результате перемножения матриц B и b получается единичная матрица\n",
    "B @ b"
   ]
  },
  {
   "cell_type": "code",
   "execution_count": 13,
   "id": "961e0361",
   "metadata": {},
   "outputs": [
    {
     "data": {
      "text/plain": [
       "array([[1.00000000e+00, 0.00000000e+00, 7.10542736e-15],\n",
       "       [0.00000000e+00, 1.00000000e+00, 0.00000000e+00],\n",
       "       [1.77635684e-15, 0.00000000e+00, 1.00000000e+00]])"
      ]
     },
     "execution_count": 13,
     "metadata": {},
     "output_type": "execute_result"
    }
   ],
   "source": [
    "b @ B"
   ]
  },
  {
   "cell_type": "code",
   "execution_count": null,
   "id": "20b88f51",
   "metadata": {},
   "outputs": [],
   "source": [
    "# По диагонали получились единицы, а остальные элементы либо нули, либо имеют значения близкие к нулю, т.е. тоже нули\n",
    "# Значит b действительно является обратной матрицей для матрицы B"
   ]
  },
  {
   "cell_type": "markdown",
   "id": "486cc4ca",
   "metadata": {},
   "source": [
    "## Уровень 1"
   ]
  },
  {
   "cell_type": "code",
   "execution_count": 90,
   "id": "1905bcc8",
   "metadata": {},
   "outputs": [
    {
     "data": {
      "text/plain": [
       "(-200.0, 200.0)"
      ]
     },
     "execution_count": 90,
     "metadata": {},
     "output_type": "execute_result"
    },
    {
     "data": {
      "image/png": "[encoded data removed]",
      "text/plain": [
       "<Figure size 360x360 with 1 Axes>"
      ]
     },
     "metadata": {
      "needs_background": "light"
     },
     "output_type": "display_data"
    }
   ],
   "source": [
    "# Дан объект в 2d пространстве:\n",
    "\n",
    "A = [\n",
    "[-100, -100, 1],\n",
    "[-100, 100, 1],\n",
    "[100, 100, 1],\n",
    "[0, 0, 1],\n",
    "[100, -100, 1],\n",
    "[-100, -100, 1]\n",
    "]\n",
    "\n",
    "A = np.array(A)\n",
    "x = A[:,0]\n",
    "y = A[:,1]\n",
    "\n",
    "# Т.о. имеем: в данной матрице A в первом столбце координаты для оси x, во втором столбце координаты для оси y, а третий\n",
    "# столбец просто так, чтобы не показалось слишком легко (буду считать, что это координаты по оси z). Т.е. вектора \n",
    "# определяющие точки в этой матрице размещены не по столбцам, а по строкам\n",
    "plt.figure(figsize=(5, 5))\n",
    "plt.grid(True)\n",
    "plt.plot(x, y)\n",
    "plt.ylim([-200, 200])\n",
    "plt.xlim([-200, 200])"
   ]
  },
  {
   "cell_type": "code",
   "execution_count": 91,
   "id": "221ad50f",
   "metadata": {},
   "outputs": [
    {
     "data": {
      "text/plain": [
       "array([[-100, -100,    1],\n",
       "       [-100,  100,    1],\n",
       "       [ 100,  100,    1],\n",
       "       [   0,    0,    1],\n",
       "       [ 100, -100,    1],\n",
       "       [-100, -100,    1]])"
      ]
     },
     "execution_count": 91,
     "metadata": {},
     "output_type": "execute_result"
    },
    {
     "data": {
      "image/png": "[encoded data removed]",
      "text/plain": [
       "<Figure size 360x360 with 1 Axes>"
      ]
     },
     "metadata": {
      "needs_background": "light"
     },
     "output_type": "display_data"
    }
   ],
   "source": [
    "# Уменьшить объект в 2 раза. Тут вопрос: нужно уменьшить в 2 раза длины всех векторов, описывающих объект?\n",
    "# Или нужно уменьшить в 2 раза площадь объекта? С этим сложнее. \n",
    "# Т.к. в задании не уточнили, то выберу простой вариант, буду уменьшать длины векторов.\n",
    "\n",
    "# Для решения поставленной задачи создадим диагональную матрицу.\n",
    "# Если нужно не изменять третий столбец с единицами, то лучше взять такую матрицу:\n",
    "# m = np.array([[0.5, 0, 0],   \n",
    "#               [0, 0.5, 0], \n",
    "#               [0, 0, 1]])   \n",
    "\n",
    "# А с этой матрицей все координаты объекта будут уменьшены в 2 раза:\n",
    "m = 0.5 * np.eye(3)            \n",
    "a = A @ m              # для маленького объекта маленькая буква ))\n",
    "x = a[:,0]\n",
    "y = a[:,1]\n",
    "\n",
    "plt.figure(figsize=(5, 5))\n",
    "plt.grid(True)\n",
    "plt.plot(x, y)\n",
    "plt.ylim([-200, 200])\n",
    "plt.xlim([-200, 200])\n",
    "A"
   ]
  },
  {
   "cell_type": "code",
   "execution_count": 93,
   "id": "581aa745",
   "metadata": {},
   "outputs": [
    {
     "data": {
      "text/plain": [
       "array([[-0.64278761, -0.76604444,  0.        ],\n",
       "       [ 0.76604444, -0.64278761,  0.        ],\n",
       "       [ 0.        ,  0.        ,  1.        ]])"
      ]
     },
     "execution_count": 93,
     "metadata": {},
     "output_type": "execute_result"
    }
   ],
   "source": [
    "# Теперь повернем объект A на 130 градусов по часовой стрелке. Сначала создадим матрицу поворота. Из статьи Википедии для этой\n",
    "# цели подойдет вариант \"Вращение вокруг оси z\".\n",
    "rotation = np.array([[np.cos(np.pi*13/18), -np.sin(np.pi*13/18), 0],\n",
    "                     [np.sin(np.pi*13/18), np.cos(np.pi*13/18), 0],\n",
    "                     [0, 0, 1]])\n",
    "rotation"
   ]
  },
  {
   "cell_type": "code",
   "execution_count": 96,
   "id": "fd82f8e4",
   "metadata": {},
   "outputs": [
    {
     "data": {
      "text/plain": [
       "array([[ -12.32568334,  140.88320528,    1.        ],\n",
       "       [ 140.88320528,   12.32568334,    1.        ],\n",
       "       [  12.32568334, -140.88320528,    1.        ],\n",
       "       [   0.        ,    0.        ,    1.        ],\n",
       "       [-140.88320528,  -12.32568334,    1.        ],\n",
       "       [ -12.32568334,  140.88320528,    1.        ]])"
      ]
     },
     "execution_count": 96,
     "metadata": {},
     "output_type": "execute_result"
    },
    {
     "data": {
      "image/png": "[encoded data removed]",
      "text/plain": [
       "<Figure size 360x360 with 1 Axes>"
      ]
     },
     "metadata": {
      "needs_background": "light"
     },
     "output_type": "display_data"
    }
   ],
   "source": [
    "# Для поворота объекта умножим исходную матрицу на матрицу поворота: \n",
    "R =  A @ rotation\n",
    "\n",
    "x = R[:,0]\n",
    "y = R[:,1]\n",
    "\n",
    "plt.figure(figsize=(5, 5))\n",
    "plt.grid(True)\n",
    "plt.plot(x, y)\n",
    "plt.ylim([-200, 200])\n",
    "plt.xlim([-200, 200])\n",
    "R"
   ]
  },
  {
   "cell_type": "code",
   "execution_count": 98,
   "id": "373e2e62",
   "metadata": {},
   "outputs": [
    {
     "data": {
      "text/plain": [
       "(-200.0, 200.0)"
      ]
     },
     "execution_count": 98,
     "metadata": {},
     "output_type": "execute_result"
    },
    {
     "data": {
      "image/png": "[encoded data removed]",
      "text/plain": [
       "<Figure size 360x360 with 1 Axes>"
      ]
     },
     "metadata": {
      "needs_background": "light"
     },
     "output_type": "display_data"
    }
   ],
   "source": [
    "# Отразить объект относительно прямой y=x (видимо имеется ввиду исходный объект А). \n",
    "# Отразим исходный . Еще раз скопируем в переменные исходные данные и изобразим объект.\n",
    "x = A[:,0]\n",
    "y = A[:,1]\n",
    "\n",
    "plt.figure(figsize=(5, 5))\n",
    "plt.grid(True)\n",
    "plt.plot(x, y)\n",
    "plt.ylim([-200, 200])\n",
    "plt.xlim([-200, 200])"
   ]
  },
  {
   "cell_type": "code",
   "execution_count": 102,
   "id": "3095c6dd",
   "metadata": {},
   "outputs": [
    {
     "data": {
      "text/plain": [
       "(-200.0, 200.0)"
      ]
     },
     "execution_count": 102,
     "metadata": {},
     "output_type": "execute_result"
    },
    {
     "data": {
      "image/png": "[encoded data removed]",
      "text/plain": [
       "<Figure size 360x360 with 1 Axes>"
      ]
     },
     "metadata": {
      "needs_background": "light"
     },
     "output_type": "display_data"
    }
   ],
   "source": [
    "# Из рекомендованных материалов берем рекомендованную матрицу трансформации\n",
    "mirror = np.array([[0, 1, 0], [1, 0, 0], [0, 0, 1]])\n",
    "\n",
    "# Для отражения относительно прямой y=x умножаем матрицу А на матрицу трансформации mirror\n",
    "M = A @ mirror \n",
    "x = M[:,0]\n",
    "y = M[:,1]\n",
    "os= [-200, 200]\n",
    "plt.figure(figsize=(5, 5))\n",
    "plt.grid(True)\n",
    "plt.plot(x, y)\n",
    "plt.plot(os, os, ':' )  # для наглядности также изобразим прямую y=x\n",
    "plt.ylim([-200, 200])\n",
    "plt.xlim([-200, 200])"
   ]
  },
  {
   "cell_type": "code",
   "execution_count": 78,
   "id": "f6ea2494",
   "metadata": {},
   "outputs": [
    {
     "data": {
      "text/plain": [
       "array([[100, 200,   1],\n",
       "       [100, 400,   1],\n",
       "       [300, 400,   1],\n",
       "       [200, 300,   1],\n",
       "       [300, 200,   1],\n",
       "       [100, 200,   1]])"
      ]
     },
     "execution_count": 78,
     "metadata": {},
     "output_type": "execute_result"
    },
    {
     "data": {
      "image/png": "[encoded data removed]",
      "text/plain": [
       "<Figure size 630x630 with 1 Axes>"
      ]
     },
     "metadata": {
      "needs_background": "light"
     },
     "output_type": "display_data"
    }
   ],
   "source": [
    "# Выполнить смещение объекта и масштабирование (применить 2 матрицы трансформаций). \n",
    "# Смещение на (200, 300) и масштабирование на (0.5, 1.2)\n",
    "# Также буду смещать исходный объект А\n",
    "# A_offset = np.array([A[:,0] + 200, A[:,1] + 300, A[:,2]]).transpose()\n",
    "\n",
    "# В задании написано применить 2 матрицы трансформации. Значит создадим матрицу смещения, которую затем прибавим к объекту А\n",
    "offset = np.array([[200, 300, 0],\n",
    "                   [200, 300, 0],\n",
    "                   [200, 300, 0],\n",
    "                   [200, 300, 0],\n",
    "                   [200, 300, 0],\n",
    "                   [200, 300, 0]])\n",
    "A_offset = A + offset\n",
    "\n",
    "x = A_offset[:,0]\n",
    "y = A_offset[:,1]\n",
    "\n",
    "plt.figure(figsize=(8.75, 8.75))\n",
    "plt.grid(True)\n",
    "plt.plot(x, y)\n",
    "plt.ylim([-200, 500])\n",
    "plt.xlim([-200, 500])\n",
    "\n",
    "A_offset"
   ]
  },
  {
   "cell_type": "code",
   "execution_count": 80,
   "id": "2ccf51bc",
   "metadata": {},
   "outputs": [
    {
     "data": {
      "text/plain": [
       "array([[ 50., 240.,   1.],\n",
       "       [ 50., 480.,   1.],\n",
       "       [150., 480.,   1.],\n",
       "       [100., 360.,   1.],\n",
       "       [150., 240.,   1.],\n",
       "       [ 50., 240.,   1.]])"
      ]
     },
     "execution_count": 80,
     "metadata": {},
     "output_type": "execute_result"
    },
    {
     "data": {
      "image/png": "[encoded data removed]",
      "text/plain": [
       "<Figure size 630x630 with 1 Axes>"
      ]
     },
     "metadata": {
      "needs_background": "light"
     },
     "output_type": "display_data"
    }
   ],
   "source": [
    "# Произведем масштабирование на (0.5, 1.2)\n",
    "# Матрица масштабирования будет диагональной и иметь вид:\n",
    "S = np.array([[0.5, 0, 0 ], \n",
    "              [0, 1.2, 0],\n",
    "              [0, 0, 1]])\n",
    "# Масштабируем смещенный объект\n",
    "A_offset_S=A_offset @ S\n",
    "\n",
    "x = A_offset_S[:,0]\n",
    "y = A_offset_S[:,1]\n",
    "\n",
    "plt.figure(figsize=(8.75, 8.75))\n",
    "plt.grid(True)\n",
    "plt.plot(x, y)\n",
    "plt.ylim([-200, 500])\n",
    "plt.xlim([-200, 500])\n",
    "\n",
    "A_offset_S"
   ]
  },
  {
   "cell_type": "markdown",
   "id": "2dcbf4b9",
   "metadata": {},
   "source": [
    "## Далее можно не смотреть\n",
    "\n",
    "т.к. и в лекциях и в большинстве статей, найденных в интернете, матрицы трансформации при умножении стоят слева, то здесь я просто для себя проверял как с имеющимися данными соблюсти такой порядок расположения матриц."
   ]
  },
  {
   "cell_type": "code",
   "execution_count": 81,
   "id": "af4558e5",
   "metadata": {},
   "outputs": [
    {
     "data": {
      "text/plain": [
       "array([[-100, -100,  100,    0,  100, -100],\n",
       "       [-100,  100,  100,    0, -100, -100],\n",
       "       [   1,    1,    1,    1,    1,    1]])"
      ]
     },
     "execution_count": 81,
     "metadata": {},
     "output_type": "execute_result"
    },
    {
     "data": {
      "image/png": "[encoded data removed]",
      "text/plain": [
       "<Figure size 360x360 with 1 Axes>"
      ]
     },
     "metadata": {
      "needs_background": "light"
     },
     "output_type": "display_data"
    }
   ],
   "source": [
    "# Транспонируем матрицу объекта А, чтобы векторы \n",
    "T = A.transpose()\n",
    "\n",
    "x = T[0,:]\n",
    "y = T[1,:]\n",
    "\n",
    "plt.figure(figsize=(5, 5))\n",
    "plt.plot(x, y)\n",
    "plt.ylim([-200, 200])\n",
    "plt.xlim([-200, 200])\n",
    "R\n",
    "T"
   ]
  },
  {
   "cell_type": "code",
   "execution_count": 82,
   "id": "8c01df2e",
   "metadata": {},
   "outputs": [
    {
     "data": {
      "text/plain": [
       "array([[ -12.32568334,  140.88320528,   12.32568334,    0.        ,\n",
       "        -140.88320528,  -12.32568334],\n",
       "       [ 140.88320528,   12.32568334, -140.88320528,    0.        ,\n",
       "         -12.32568334,  140.88320528],\n",
       "       [   1.        ,    1.        ,    1.        ,    1.        ,\n",
       "           1.        ,    1.        ]])"
      ]
     },
     "execution_count": 82,
     "metadata": {},
     "output_type": "execute_result"
    },
    {
     "data": {
      "image/png": "[encoded data removed]",
      "text/plain": [
       "<Figure size 360x360 with 1 Axes>"
      ]
     },
     "metadata": {
      "needs_background": "light"
     },
     "output_type": "display_data"
    }
   ],
   "source": [
    "rotation = np.array([[np.cos(np.pi*13/18), np.sin(np.pi*13/18), 0],\n",
    "                     [-np.sin(np.pi*13/18), np.cos(np.pi*13/18), 0],\n",
    "                     [0, 0, 1]])\n",
    "R = rotation @ T\n",
    "\n",
    "x = R[0,:]\n",
    "y = R[1,:]\n",
    "\n",
    "plt.figure(figsize=(5, 5))\n",
    "plt.plot(x, y)\n",
    "plt.ylim([-200, 200])\n",
    "plt.xlim([-200, 200])\n",
    "R"
   ]
  }
 ],
 "metadata": {
  "kernelspec": {
   "display_name": "Python 3",
   "language": "python",
   "name": "python3"
  },
  "language_info": {
   "codemirror_mode": {
    "name": "ipython",
    "version": 3
   },
   "file_extension": ".py",
   "mimetype": "text/x-python",
   "name": "python",
   "nbconvert_exporter": "python",
   "pygments_lexer": "ipython3",
   "version": "3.8.8"
  }
 },
 "nbformat": 4,
 "nbformat_minor": 5
}
